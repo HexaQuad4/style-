{
  "nbformat": 4,
  "nbformat_minor": 0,
  "metadata": {
    "colab": {
      "provenance": [],
      "gpuType": "T4",
      "include_colab_link": true
    },
    "kernelspec": {
      "name": "python3",
      "display_name": "Python 3"
    },
    "language_info": {
      "name": "python"
    },
    "accelerator": "GPU"
  },
  "cells": [
    {
      "cell_type": "markdown",
      "metadata": {
        "id": "view-in-github",
        "colab_type": "text"
      },
      "source": [
        "<a href=\"https://colab.research.google.com/github/HexaQuad4/style-/blob/style-tts-2/Colab/StyleTTS2_Finetune_Demo.ipynb\" target=\"_parent\"><img src=\"https://colab.research.google.com/assets/colab-badge.svg\" alt=\"Open In Colab\"/></a>"
      ]
    },
    {
      "cell_type": "markdown",
      "source": [
        "### Install packages and download models"
      ],
      "metadata": {
        "id": "yLqBa4uYPrqE"
      }
    },
    {
      "cell_type": "code",
      "source": [
        "%%shell\n",
        "git clone https://github.com/yl4579/StyleTTS2.git\n",
        "cd StyleTTS2\n",
        "pip install SoundFile torchaudio munch torch pydub pyyaml librosa nltk matplotlib accelerate transformers phonemizer einops einops-exts tqdm typing-extensions git+https://github.com/resemble-ai/monotonic_align.git\n",
        "sudo apt-get install espeak-ng\n",
        "git-lfs clone https://huggingface.co/yl4579/StyleTTS2-LibriTTS\n",
        "mv StyleTTS2-LibriTTS/Models ."
      ],
      "metadata": {
        "id": "H72WF06ZPrTF",
        "outputId": "8b78999d-66a4-491c-b672-937ef17ef781",
        "colab": {
          "base_uri": "https://localhost:8080/"
        }
      },
      "execution_count": 1,
      "outputs": [
        {
          "output_type": "stream",
          "name": "stdout",
          "text": [
            "Cloning into 'StyleTTS2'...\n",
            "remote: Enumerating objects: 372, done.\u001b[K\n",
            "remote: Counting objects: 100% (144/144), done.\u001b[K\n",
            "remote: Compressing objects: 100% (48/48), done.\u001b[K\n",
            "remote: Total 372 (delta 102), reused 96 (delta 96), pack-reused 228 (from 1)\u001b[K\n",
            "Receiving objects: 100% (372/372), 133.97 MiB | 26.25 MiB/s, done.\n",
            "Resolving deltas: 100% (203/203), done.\n",
            "Updating files: 100% (48/48), done.\n",
            "Collecting git+https://github.com/resemble-ai/monotonic_align.git\n",
            "  Cloning https://github.com/resemble-ai/monotonic_align.git to /tmp/pip-req-build-6xe5v1__\n",
            "  Running command git clone --filter=blob:none --quiet https://github.com/resemble-ai/monotonic_align.git /tmp/pip-req-build-6xe5v1__\n",
            "  Resolved https://github.com/resemble-ai/monotonic_align.git to commit c6e5e6cb19882164027eb6e35118e841eed9298e\n",
            "  Installing build dependencies ... \u001b[?25l\u001b[?25hdone\n",
            "  Getting requirements to build wheel ... \u001b[?25l\u001b[?25hdone\n",
            "  Preparing metadata (pyproject.toml) ... \u001b[?25l\u001b[?25hdone\n",
            "Requirement already satisfied: SoundFile in /usr/local/lib/python3.12/dist-packages (0.13.1)\n",
            "Requirement already satisfied: torchaudio in /usr/local/lib/python3.12/dist-packages (2.8.0+cu126)\n",
            "Collecting munch\n",
            "  Downloading munch-4.0.0-py2.py3-none-any.whl.metadata (5.9 kB)\n",
            "Requirement already satisfied: torch in /usr/local/lib/python3.12/dist-packages (2.8.0+cu126)\n",
            "Requirement already satisfied: pydub in /usr/local/lib/python3.12/dist-packages (0.25.1)\n",
            "Requirement already satisfied: pyyaml in /usr/local/lib/python3.12/dist-packages (6.0.2)\n",
            "Requirement already satisfied: librosa in /usr/local/lib/python3.12/dist-packages (0.11.0)\n",
            "Requirement already satisfied: nltk in /usr/local/lib/python3.12/dist-packages (3.9.1)\n",
            "Requirement already satisfied: matplotlib in /usr/local/lib/python3.12/dist-packages (3.10.0)\n",
            "Requirement already satisfied: accelerate in /usr/local/lib/python3.12/dist-packages (1.10.1)\n",
            "Requirement already satisfied: transformers in /usr/local/lib/python3.12/dist-packages (4.56.1)\n",
            "Collecting phonemizer\n",
            "  Downloading phonemizer-3.3.0-py3-none-any.whl.metadata (48 kB)\n",
            "\u001b[2K     \u001b[90m━━━━━━━━━━━━━━━━━━━━━━━━━━━━━━━━━━━━━━━━\u001b[0m \u001b[32m48.2/48.2 kB\u001b[0m \u001b[31m4.4 MB/s\u001b[0m eta \u001b[36m0:00:00\u001b[0m\n",
            "\u001b[?25hRequirement already satisfied: einops in /usr/local/lib/python3.12/dist-packages (0.8.1)\n",
            "Collecting einops-exts\n",
            "  Downloading einops_exts-0.0.4-py3-none-any.whl.metadata (621 bytes)\n",
            "Requirement already satisfied: tqdm in /usr/local/lib/python3.12/dist-packages (4.67.1)\n",
            "Requirement already satisfied: typing-extensions in /usr/local/lib/python3.12/dist-packages (4.15.0)\n",
            "Requirement already satisfied: cffi>=1.0 in /usr/local/lib/python3.12/dist-packages (from SoundFile) (2.0.0)\n",
            "Requirement already satisfied: numpy in /usr/local/lib/python3.12/dist-packages (from SoundFile) (2.0.2)\n",
            "Requirement already satisfied: filelock in /usr/local/lib/python3.12/dist-packages (from torch) (3.19.1)\n",
            "Requirement already satisfied: setuptools in /usr/local/lib/python3.12/dist-packages (from torch) (75.2.0)\n",
            "Requirement already satisfied: sympy>=1.13.3 in /usr/local/lib/python3.12/dist-packages (from torch) (1.13.3)\n",
            "Requirement already satisfied: networkx in /usr/local/lib/python3.12/dist-packages (from torch) (3.5)\n",
            "Requirement already satisfied: jinja2 in /usr/local/lib/python3.12/dist-packages (from torch) (3.1.6)\n",
            "Requirement already satisfied: fsspec in /usr/local/lib/python3.12/dist-packages (from torch) (2025.3.0)\n",
            "Requirement already satisfied: nvidia-cuda-nvrtc-cu12==12.6.77 in /usr/local/lib/python3.12/dist-packages (from torch) (12.6.77)\n",
            "Requirement already satisfied: nvidia-cuda-runtime-cu12==12.6.77 in /usr/local/lib/python3.12/dist-packages (from torch) (12.6.77)\n",
            "Requirement already satisfied: nvidia-cuda-cupti-cu12==12.6.80 in /usr/local/lib/python3.12/dist-packages (from torch) (12.6.80)\n",
            "Requirement already satisfied: nvidia-cudnn-cu12==9.10.2.21 in /usr/local/lib/python3.12/dist-packages (from torch) (9.10.2.21)\n",
            "Requirement already satisfied: nvidia-cublas-cu12==12.6.4.1 in /usr/local/lib/python3.12/dist-packages (from torch) (12.6.4.1)\n",
            "Requirement already satisfied: nvidia-cufft-cu12==11.3.0.4 in /usr/local/lib/python3.12/dist-packages (from torch) (11.3.0.4)\n",
            "Requirement already satisfied: nvidia-curand-cu12==10.3.7.77 in /usr/local/lib/python3.12/dist-packages (from torch) (10.3.7.77)\n",
            "Requirement already satisfied: nvidia-cusolver-cu12==11.7.1.2 in /usr/local/lib/python3.12/dist-packages (from torch) (11.7.1.2)\n",
            "Requirement already satisfied: nvidia-cusparse-cu12==12.5.4.2 in /usr/local/lib/python3.12/dist-packages (from torch) (12.5.4.2)\n",
            "Requirement already satisfied: nvidia-cusparselt-cu12==0.7.1 in /usr/local/lib/python3.12/dist-packages (from torch) (0.7.1)\n",
            "Requirement already satisfied: nvidia-nccl-cu12==2.27.3 in /usr/local/lib/python3.12/dist-packages (from torch) (2.27.3)\n",
            "Requirement already satisfied: nvidia-nvtx-cu12==12.6.77 in /usr/local/lib/python3.12/dist-packages (from torch) (12.6.77)\n",
            "Requirement already satisfied: nvidia-nvjitlink-cu12==12.6.85 in /usr/local/lib/python3.12/dist-packages (from torch) (12.6.85)\n",
            "Requirement already satisfied: nvidia-cufile-cu12==1.11.1.6 in /usr/local/lib/python3.12/dist-packages (from torch) (1.11.1.6)\n",
            "Requirement already satisfied: triton==3.4.0 in /usr/local/lib/python3.12/dist-packages (from torch) (3.4.0)\n",
            "Requirement already satisfied: audioread>=2.1.9 in /usr/local/lib/python3.12/dist-packages (from librosa) (3.0.1)\n",
            "Requirement already satisfied: numba>=0.51.0 in /usr/local/lib/python3.12/dist-packages (from librosa) (0.60.0)\n",
            "Requirement already satisfied: scipy>=1.6.0 in /usr/local/lib/python3.12/dist-packages (from librosa) (1.16.1)\n",
            "Requirement already satisfied: scikit-learn>=1.1.0 in /usr/local/lib/python3.12/dist-packages (from librosa) (1.6.1)\n",
            "Requirement already satisfied: joblib>=1.0 in /usr/local/lib/python3.12/dist-packages (from librosa) (1.5.2)\n",
            "Requirement already satisfied: decorator>=4.3.0 in /usr/local/lib/python3.12/dist-packages (from librosa) (4.4.2)\n",
            "Requirement already satisfied: pooch>=1.1 in /usr/local/lib/python3.12/dist-packages (from librosa) (1.8.2)\n",
            "Requirement already satisfied: soxr>=0.3.2 in /usr/local/lib/python3.12/dist-packages (from librosa) (1.0.0)\n",
            "Requirement already satisfied: lazy_loader>=0.1 in /usr/local/lib/python3.12/dist-packages (from librosa) (0.4)\n",
            "Requirement already satisfied: msgpack>=1.0 in /usr/local/lib/python3.12/dist-packages (from librosa) (1.1.1)\n",
            "Requirement already satisfied: click in /usr/local/lib/python3.12/dist-packages (from nltk) (8.2.1)\n",
            "Requirement already satisfied: regex>=2021.8.3 in /usr/local/lib/python3.12/dist-packages (from nltk) (2024.11.6)\n",
            "Requirement already satisfied: contourpy>=1.0.1 in /usr/local/lib/python3.12/dist-packages (from matplotlib) (1.3.3)\n",
            "Requirement already satisfied: cycler>=0.10 in /usr/local/lib/python3.12/dist-packages (from matplotlib) (0.12.1)\n",
            "Requirement already satisfied: fonttools>=4.22.0 in /usr/local/lib/python3.12/dist-packages (from matplotlib) (4.59.2)\n",
            "Requirement already satisfied: kiwisolver>=1.3.1 in /usr/local/lib/python3.12/dist-packages (from matplotlib) (1.4.9)\n",
            "Requirement already satisfied: packaging>=20.0 in /usr/local/lib/python3.12/dist-packages (from matplotlib) (25.0)\n",
            "Requirement already satisfied: pillow>=8 in /usr/local/lib/python3.12/dist-packages (from matplotlib) (11.3.0)\n",
            "Requirement already satisfied: pyparsing>=2.3.1 in /usr/local/lib/python3.12/dist-packages (from matplotlib) (3.2.3)\n",
            "Requirement already satisfied: python-dateutil>=2.7 in /usr/local/lib/python3.12/dist-packages (from matplotlib) (2.9.0.post0)\n",
            "Requirement already satisfied: psutil in /usr/local/lib/python3.12/dist-packages (from accelerate) (5.9.5)\n",
            "Requirement already satisfied: huggingface_hub>=0.21.0 in /usr/local/lib/python3.12/dist-packages (from accelerate) (0.34.4)\n",
            "Requirement already satisfied: safetensors>=0.4.3 in /usr/local/lib/python3.12/dist-packages (from accelerate) (0.6.2)\n",
            "Requirement already satisfied: requests in /usr/local/lib/python3.12/dist-packages (from transformers) (2.32.4)\n",
            "Requirement already satisfied: tokenizers<=0.23.0,>=0.22.0 in /usr/local/lib/python3.12/dist-packages (from transformers) (0.22.0)\n",
            "Collecting segments (from phonemizer)\n",
            "  Downloading segments-2.3.0-py2.py3-none-any.whl.metadata (3.5 kB)\n",
            "Requirement already satisfied: attrs>=18.1 in /usr/local/lib/python3.12/dist-packages (from phonemizer) (25.3.0)\n",
            "Collecting dlinfo (from phonemizer)\n",
            "  Downloading dlinfo-2.0.0-py3-none-any.whl.metadata (1.1 kB)\n",
            "Requirement already satisfied: pycparser in /usr/local/lib/python3.12/dist-packages (from cffi>=1.0->SoundFile) (2.23)\n",
            "Requirement already satisfied: hf-xet<2.0.0,>=1.1.3 in /usr/local/lib/python3.12/dist-packages (from huggingface_hub>=0.21.0->accelerate) (1.1.9)\n",
            "Requirement already satisfied: llvmlite<0.44,>=0.43.0dev0 in /usr/local/lib/python3.12/dist-packages (from numba>=0.51.0->librosa) (0.43.0)\n",
            "Requirement already satisfied: platformdirs>=2.5.0 in /usr/local/lib/python3.12/dist-packages (from pooch>=1.1->librosa) (4.4.0)\n",
            "Requirement already satisfied: six>=1.5 in /usr/local/lib/python3.12/dist-packages (from python-dateutil>=2.7->matplotlib) (1.17.0)\n",
            "Requirement already satisfied: charset_normalizer<4,>=2 in /usr/local/lib/python3.12/dist-packages (from requests->transformers) (3.4.3)\n",
            "Requirement already satisfied: idna<4,>=2.5 in /usr/local/lib/python3.12/dist-packages (from requests->transformers) (3.10)\n",
            "Requirement already satisfied: urllib3<3,>=1.21.1 in /usr/local/lib/python3.12/dist-packages (from requests->transformers) (2.5.0)\n",
            "Requirement already satisfied: certifi>=2017.4.17 in /usr/local/lib/python3.12/dist-packages (from requests->transformers) (2025.8.3)\n",
            "Requirement already satisfied: threadpoolctl>=3.1.0 in /usr/local/lib/python3.12/dist-packages (from scikit-learn>=1.1.0->librosa) (3.6.0)\n",
            "Requirement already satisfied: mpmath<1.4,>=1.1.0 in /usr/local/lib/python3.12/dist-packages (from sympy>=1.13.3->torch) (1.3.0)\n",
            "Requirement already satisfied: MarkupSafe>=2.0 in /usr/local/lib/python3.12/dist-packages (from jinja2->torch) (3.0.2)\n",
            "Collecting csvw>=1.5.6 (from segments->phonemizer)\n",
            "  Downloading csvw-3.6.0-py2.py3-none-any.whl.metadata (10 kB)\n",
            "Collecting isodate (from csvw>=1.5.6->segments->phonemizer)\n",
            "  Downloading isodate-0.7.2-py3-none-any.whl.metadata (11 kB)\n",
            "Collecting rfc3986<2 (from csvw>=1.5.6->segments->phonemizer)\n",
            "  Downloading rfc3986-1.5.0-py2.py3-none-any.whl.metadata (6.5 kB)\n",
            "Requirement already satisfied: uritemplate>=3.0.0 in /usr/local/lib/python3.12/dist-packages (from csvw>=1.5.6->segments->phonemizer) (4.2.0)\n",
            "Requirement already satisfied: babel in /usr/local/lib/python3.12/dist-packages (from csvw>=1.5.6->segments->phonemizer) (2.17.0)\n",
            "Collecting language-tags (from csvw>=1.5.6->segments->phonemizer)\n",
            "  Downloading language_tags-1.2.0-py3-none-any.whl.metadata (2.1 kB)\n",
            "Collecting rdflib (from csvw>=1.5.6->segments->phonemizer)\n",
            "  Downloading rdflib-7.2.1-py3-none-any.whl.metadata (11 kB)\n",
            "Requirement already satisfied: termcolor in /usr/local/lib/python3.12/dist-packages (from csvw>=1.5.6->segments->phonemizer) (3.1.0)\n",
            "Requirement already satisfied: jsonschema in /usr/local/lib/python3.12/dist-packages (from csvw>=1.5.6->segments->phonemizer) (4.25.1)\n",
            "Requirement already satisfied: jsonschema-specifications>=2023.03.6 in /usr/local/lib/python3.12/dist-packages (from jsonschema->csvw>=1.5.6->segments->phonemizer) (2025.9.1)\n",
            "Requirement already satisfied: referencing>=0.28.4 in /usr/local/lib/python3.12/dist-packages (from jsonschema->csvw>=1.5.6->segments->phonemizer) (0.36.2)\n",
            "Requirement already satisfied: rpds-py>=0.7.1 in /usr/local/lib/python3.12/dist-packages (from jsonschema->csvw>=1.5.6->segments->phonemizer) (0.27.1)\n",
            "Downloading munch-4.0.0-py2.py3-none-any.whl (9.9 kB)\n",
            "Downloading phonemizer-3.3.0-py3-none-any.whl (103 kB)\n",
            "\u001b[2K   \u001b[90m━━━━━━━━━━━━━━━━━━━━━━━━━━━━━━━━━━━━━━━━\u001b[0m \u001b[32m103.8/103.8 kB\u001b[0m \u001b[31m8.9 MB/s\u001b[0m eta \u001b[36m0:00:00\u001b[0m\n",
            "\u001b[?25hDownloading einops_exts-0.0.4-py3-none-any.whl (3.9 kB)\n",
            "Downloading dlinfo-2.0.0-py3-none-any.whl (3.7 kB)\n",
            "Downloading segments-2.3.0-py2.py3-none-any.whl (15 kB)\n",
            "Downloading csvw-3.6.0-py2.py3-none-any.whl (60 kB)\n",
            "\u001b[2K   \u001b[90m━━━━━━━━━━━━━━━━━━━━━━━━━━━━━━━━━━━━━━━━\u001b[0m \u001b[32m60.2/60.2 kB\u001b[0m \u001b[31m6.4 MB/s\u001b[0m eta \u001b[36m0:00:00\u001b[0m\n",
            "\u001b[?25hDownloading rfc3986-1.5.0-py2.py3-none-any.whl (31 kB)\n",
            "Downloading isodate-0.7.2-py3-none-any.whl (22 kB)\n",
            "Downloading language_tags-1.2.0-py3-none-any.whl (213 kB)\n",
            "\u001b[2K   \u001b[90m━━━━━━━━━━━━━━━━━━━━━━━━━━━━━━━━━━━━━━━━\u001b[0m \u001b[32m213.4/213.4 kB\u001b[0m \u001b[31m19.0 MB/s\u001b[0m eta \u001b[36m0:00:00\u001b[0m\n",
            "\u001b[?25hDownloading rdflib-7.2.1-py3-none-any.whl (565 kB)\n",
            "\u001b[2K   \u001b[90m━━━━━━━━━━━━━━━━━━━━━━━━━━━━━━━━━━━━━━━━\u001b[0m \u001b[32m565.4/565.4 kB\u001b[0m \u001b[31m42.7 MB/s\u001b[0m eta \u001b[36m0:00:00\u001b[0m\n",
            "\u001b[?25hBuilding wheels for collected packages: monotonic_align\n",
            "  Building wheel for monotonic_align (pyproject.toml) ... \u001b[?25l\u001b[?25hdone\n",
            "  Created wheel for monotonic_align: filename=monotonic_align-1.2-cp312-cp312-linux_x86_64.whl size=1518520 sha256=610762116c171df770ad4a9d2e607a91d6df015c59f3ce314a74e799a3fc0e36\n",
            "  Stored in directory: /tmp/pip-ephem-wheel-cache-gcrop4or/wheels/76/0a/37/00634137cd000799e060087bd1cb49a060ac6a48fc42a15488\n",
            "Successfully built monotonic_align\n",
            "Installing collected packages: rfc3986, language-tags, rdflib, munch, monotonic_align, isodate, einops-exts, dlinfo, csvw, segments, phonemizer\n",
            "Successfully installed csvw-3.6.0 dlinfo-2.0.0 einops-exts-0.0.4 isodate-0.7.2 language-tags-1.2.0 monotonic_align-1.2 munch-4.0.0 phonemizer-3.3.0 rdflib-7.2.1 rfc3986-1.5.0 segments-2.3.0\n",
            "Reading package lists... Done\n",
            "Building dependency tree... Done\n",
            "Reading state information... Done\n",
            "The following additional packages will be installed:\n",
            "  espeak-ng-data libespeak-ng1 libpcaudio0 libsonic0\n",
            "The following NEW packages will be installed:\n",
            "  espeak-ng espeak-ng-data libespeak-ng1 libpcaudio0 libsonic0\n",
            "0 upgraded, 5 newly installed, 0 to remove and 35 not upgraded.\n",
            "Need to get 4,526 kB of archives.\n",
            "After this operation, 11.9 MB of additional disk space will be used.\n",
            "Get:1 http://archive.ubuntu.com/ubuntu jammy/main amd64 libpcaudio0 amd64 1.1-6build2 [8,956 B]\n",
            "Get:2 http://archive.ubuntu.com/ubuntu jammy/main amd64 libsonic0 amd64 0.2.0-11build1 [10.3 kB]\n",
            "Get:3 http://archive.ubuntu.com/ubuntu jammy-updates/main amd64 espeak-ng-data amd64 1.50+dfsg-10ubuntu0.1 [3,956 kB]\n",
            "Get:4 http://archive.ubuntu.com/ubuntu jammy-updates/main amd64 libespeak-ng1 amd64 1.50+dfsg-10ubuntu0.1 [207 kB]\n",
            "Get:5 http://archive.ubuntu.com/ubuntu jammy-updates/universe amd64 espeak-ng amd64 1.50+dfsg-10ubuntu0.1 [343 kB]\n",
            "Fetched 4,526 kB in 0s (27.9 MB/s)\n",
            "debconf: unable to initialize frontend: Dialog\n",
            "debconf: (No usable dialog-like program is installed, so the dialog based frontend cannot be used. at /usr/share/perl5/Debconf/FrontEnd/Dialog.pm line 78, <> line 5.)\n",
            "debconf: falling back to frontend: Readline\n",
            "debconf: unable to initialize frontend: Readline\n",
            "debconf: (This frontend requires a controlling tty.)\n",
            "debconf: falling back to frontend: Teletype\n",
            "dpkg-preconfigure: unable to re-open stdin: \n",
            "Selecting previously unselected package libpcaudio0:amd64.\n",
            "(Reading database ... 126435 files and directories currently installed.)\n",
            "Preparing to unpack .../libpcaudio0_1.1-6build2_amd64.deb ...\n",
            "Unpacking libpcaudio0:amd64 (1.1-6build2) ...\n",
            "Selecting previously unselected package libsonic0:amd64.\n",
            "Preparing to unpack .../libsonic0_0.2.0-11build1_amd64.deb ...\n",
            "Unpacking libsonic0:amd64 (0.2.0-11build1) ...\n",
            "Selecting previously unselected package espeak-ng-data:amd64.\n",
            "Preparing to unpack .../espeak-ng-data_1.50+dfsg-10ubuntu0.1_amd64.deb ...\n",
            "Unpacking espeak-ng-data:amd64 (1.50+dfsg-10ubuntu0.1) ...\n",
            "Selecting previously unselected package libespeak-ng1:amd64.\n",
            "Preparing to unpack .../libespeak-ng1_1.50+dfsg-10ubuntu0.1_amd64.deb ...\n",
            "Unpacking libespeak-ng1:amd64 (1.50+dfsg-10ubuntu0.1) ...\n",
            "Selecting previously unselected package espeak-ng.\n",
            "Preparing to unpack .../espeak-ng_1.50+dfsg-10ubuntu0.1_amd64.deb ...\n",
            "Unpacking espeak-ng (1.50+dfsg-10ubuntu0.1) ...\n",
            "Setting up libpcaudio0:amd64 (1.1-6build2) ...\n",
            "Setting up libsonic0:amd64 (0.2.0-11build1) ...\n",
            "Setting up espeak-ng-data:amd64 (1.50+dfsg-10ubuntu0.1) ...\n",
            "Setting up libespeak-ng1:amd64 (1.50+dfsg-10ubuntu0.1) ...\n",
            "Setting up espeak-ng (1.50+dfsg-10ubuntu0.1) ...\n",
            "Processing triggers for man-db (2.10.2-1) ...\n",
            "Processing triggers for libc-bin (2.35-0ubuntu3.8) ...\n",
            "/sbin/ldconfig.real: /usr/local/lib/libur_adapter_level_zero_v2.so.0 is not a symbolic link\n",
            "\n",
            "/sbin/ldconfig.real: /usr/local/lib/libur_loader.so.0 is not a symbolic link\n",
            "\n",
            "/sbin/ldconfig.real: /usr/local/lib/libtbbbind_2_5.so.3 is not a symbolic link\n",
            "\n",
            "/sbin/ldconfig.real: /usr/local/lib/libhwloc.so.15 is not a symbolic link\n",
            "\n",
            "/sbin/ldconfig.real: /usr/local/lib/libtcm_debug.so.1 is not a symbolic link\n",
            "\n",
            "/sbin/ldconfig.real: /usr/local/lib/libtbbbind_2_0.so.3 is not a symbolic link\n",
            "\n",
            "/sbin/ldconfig.real: /usr/local/lib/libtbbmalloc.so.2 is not a symbolic link\n",
            "\n",
            "/sbin/ldconfig.real: /usr/local/lib/libur_adapter_level_zero.so.0 is not a symbolic link\n",
            "\n",
            "/sbin/ldconfig.real: /usr/local/lib/libtbbmalloc_proxy.so.2 is not a symbolic link\n",
            "\n",
            "/sbin/ldconfig.real: /usr/local/lib/libumf.so.0 is not a symbolic link\n",
            "\n",
            "/sbin/ldconfig.real: /usr/local/lib/libur_adapter_opencl.so.0 is not a symbolic link\n",
            "\n",
            "/sbin/ldconfig.real: /usr/local/lib/libtbb.so.12 is not a symbolic link\n",
            "\n",
            "/sbin/ldconfig.real: /usr/local/lib/libtcm.so.1 is not a symbolic link\n",
            "\n",
            "/sbin/ldconfig.real: /usr/local/lib/libtbbbind.so.3 is not a symbolic link\n",
            "\n",
            "WARNING: 'git lfs clone' is deprecated and will not be updated\n",
            "          with new flags from 'git clone'\n",
            "\n",
            "'git clone' has been updated in upstream Git to have comparable\n",
            "speeds to 'git lfs clone'.\n",
            "Cloning into 'StyleTTS2-LibriTTS'...\n",
            "remote: Enumerating objects: 25, done.\u001b[K\n",
            "remote: Total 25 (delta 0), reused 0 (delta 0), pack-reused 25 (from 1)\u001b[K\n",
            "Unpacking objects: 100% (25/25), 3.69 KiB | 755.00 KiB/s, done.\n"
          ]
        },
        {
          "output_type": "execute_result",
          "data": {
            "text/plain": []
          },
          "metadata": {},
          "execution_count": 1
        }
      ]
    },
    {
      "cell_type": "markdown",
      "source": [
        "### Download dataset (LJSpeech, 200 samples, ~15 minutes of data)\n",
        "\n",
        "You can definitely do it with fewer samples. This is just a proof of concept with 200 smaples."
      ],
      "metadata": {
        "id": "G398sL8wPzTB"
      }
    },
    {
      "cell_type": "code",
      "source": [
        "%cd StyleTTS2\n",
        "!rm -rf Data"
      ],
      "metadata": {
        "id": "kJuQUBrEPy5C",
        "outputId": "50d46a9c-6966-43dc-9a37-0bcbd64258ca",
        "colab": {
          "base_uri": "https://localhost:8080/"
        }
      },
      "execution_count": 2,
      "outputs": [
        {
          "output_type": "stream",
          "name": "stdout",
          "text": [
            "/content/StyleTTS2\n"
          ]
        }
      ]
    },
    {
      "cell_type": "code",
      "source": [
        "!gdown --id 1vqz26D3yn7OXS2vbfYxfSnpLS6m6tOFP\n",
        "!unzip Data.zip"
      ],
      "metadata": {
        "id": "mDXW8ZZePuSb",
        "outputId": "ae09a449-d222-4a74-bc7a-cd83a2451dac",
        "colab": {
          "base_uri": "https://localhost:8080/"
        }
      },
      "execution_count": 3,
      "outputs": [
        {
          "output_type": "stream",
          "name": "stdout",
          "text": [
            "/usr/local/lib/python3.12/dist-packages/gdown/__main__.py:140: FutureWarning: Option `--id` was deprecated in version 4.3.1 and will be removed in 5.0. You don't need to pass it anymore to use a file ID.\n",
            "  warnings.warn(\n",
            "Downloading...\n",
            "From (original): https://drive.google.com/uc?id=1vqz26D3yn7OXS2vbfYxfSnpLS6m6tOFP\n",
            "From (redirected): https://drive.google.com/uc?id=1vqz26D3yn7OXS2vbfYxfSnpLS6m6tOFP&confirm=t&uuid=36526d71-5ec5-4907-8d79-85c8409f7945\n",
            "To: /content/StyleTTS2/Data.zip\n",
            "100% 70.2M/70.2M [00:00<00:00, 90.0MB/s]\n",
            "Archive:  Data.zip\n",
            "   creating: Data/\n",
            "  inflating: Data/train_list.txt     \n",
            "   creating: Data/.ipynb_checkpoints/\n",
            "  inflating: Data/val_list.txt       \n",
            "  inflating: Data/OOD_texts.txt      \n",
            "   creating: Data/wavs/\n",
            "  inflating: Data/wavs/LJ048-0203.wav  \n",
            "  inflating: Data/wavs/LJ031-0045.wav  \n",
            "  inflating: Data/wavs/LJ003-0201.wav  \n",
            "  inflating: Data/wavs/LJ004-0096.wav  \n",
            "  inflating: Data/wavs/LJ047-0047.wav  \n",
            "  inflating: Data/wavs/LJ005-0222.wav  \n",
            "  inflating: Data/wavs/LJ039-0223.wav  \n",
            "  inflating: Data/wavs/LJ048-0137.wav  \n",
            "  inflating: Data/wavs/LJ025-0154.wav  \n",
            "  inflating: Data/wavs/LJ003-0028.wav  \n",
            "  inflating: Data/wavs/LJ003-0097.wav  \n",
            "  inflating: Data/wavs/LJ028-0181.wav  \n",
            "  inflating: Data/wavs/LJ028-0428.wav  \n",
            "  inflating: Data/wavs/LJ030-0034.wav  \n",
            "  inflating: Data/wavs/LJ049-0167.wav  \n",
            "  inflating: Data/wavs/LJ001-0143.wav  \n",
            "  inflating: Data/wavs/LJ016-0214.wav  \n",
            "  inflating: Data/wavs/LJ003-0222.wav  \n",
            "  inflating: Data/wavs/LJ032-0052.wav  \n",
            "  inflating: Data/wavs/LJ044-0050.wav  \n",
            "  inflating: Data/wavs/LJ012-0224.wav  \n",
            "  inflating: Data/wavs/LJ036-0215.wav  \n",
            "  inflating: Data/wavs/LJ006-0132.wav  \n",
            "  inflating: Data/wavs/LJ022-0099.wav  \n",
            "  inflating: Data/wavs/LJ009-0118.wav  \n",
            "  inflating: Data/wavs/LJ032-0071.wav  \n",
            "  inflating: Data/wavs/LJ046-0069.wav  \n",
            "  inflating: Data/wavs/LJ013-0077.wav  \n",
            "  inflating: Data/wavs/LJ034-0086.wav  \n",
            "  inflating: Data/wavs/LJ021-0195.wav  \n",
            "  inflating: Data/wavs/LJ008-0278.wav  \n",
            "  inflating: Data/wavs/LJ017-0278.wav  \n",
            "  inflating: Data/wavs/LJ019-0257.wav  \n",
            "  inflating: Data/wavs/LJ044-0166.wav  \n",
            "  inflating: Data/wavs/LJ026-0068.wav  \n",
            "  inflating: Data/wavs/LJ027-0081.wav  \n",
            "  inflating: Data/wavs/LJ049-0040.wav  \n",
            "  inflating: Data/wavs/LJ020-0067.wav  \n",
            "  inflating: Data/wavs/LJ013-0052.wav  \n",
            "  inflating: Data/wavs/LJ048-0153.wav  \n",
            "  inflating: Data/wavs/LJ021-0118.wav  \n",
            "  inflating: Data/wavs/LJ006-0069.wav  \n",
            "  inflating: Data/wavs/LJ034-0128.wav  \n",
            "  inflating: Data/wavs/LJ004-0125.wav  \n",
            "  inflating: Data/wavs/LJ003-0198.wav  \n",
            "  inflating: Data/wavs/LJ023-0064.wav  \n",
            "  inflating: Data/wavs/LJ041-0151.wav  \n",
            "  inflating: Data/wavs/LJ045-0051.wav  \n",
            "  inflating: Data/wavs/LJ027-0017.wav  \n",
            "  inflating: Data/wavs/LJ005-0201.wav  \n",
            "  inflating: Data/wavs/LJ046-0011.wav  \n",
            "  inflating: Data/wavs/LJ024-0125.wav  \n",
            "  inflating: Data/wavs/LJ021-0146.wav  \n",
            "  inflating: Data/wavs/LJ018-0311.wav  \n",
            "  inflating: Data/wavs/LJ022-0023.wav  \n",
            "  inflating: Data/wavs/LJ003-0182.wav  \n",
            "  inflating: Data/wavs/LJ027-0059.wav  \n",
            "  inflating: Data/wavs/LJ030-0109.wav  \n",
            "  inflating: Data/wavs/LJ019-0357.wav  \n",
            "  inflating: Data/wavs/LJ015-0019.wav  \n",
            "  inflating: Data/wavs/LJ018-0286.wav  \n",
            "  inflating: Data/wavs/LJ012-0281.wav  \n",
            "  inflating: Data/wavs/LJ034-0155.wav  \n",
            "  inflating: Data/wavs/LJ050-0257.wav  \n",
            "  inflating: Data/wavs/LJ034-0198.wav  \n",
            "  inflating: Data/wavs/LJ019-0393.wav  \n",
            "  inflating: Data/wavs/LJ049-0026.wav  \n",
            "  inflating: Data/wavs/LJ004-0032.wav  \n",
            "  inflating: Data/wavs/LJ047-0044.wav  \n",
            "  inflating: Data/wavs/LJ028-0008.wav  \n",
            "  inflating: Data/wavs/LJ009-0139.wav  \n",
            "  inflating: Data/wavs/LJ015-0073.wav  \n",
            "  inflating: Data/wavs/LJ029-0212.wav  \n",
            "  inflating: Data/wavs/LJ020-0087.wav  \n",
            "  inflating: Data/wavs/LJ006-0077.wav  \n",
            "  inflating: Data/wavs/LJ049-0118.wav  \n",
            "  inflating: Data/wavs/LJ003-0322.wav  \n",
            "  inflating: Data/wavs/LJ015-0273.wav  \n",
            "  inflating: Data/wavs/LJ012-0161.wav  \n",
            "  inflating: Data/wavs/LJ044-0145.wav  \n",
            "  inflating: Data/wavs/LJ028-0397.wav  \n",
            "  inflating: Data/wavs/LJ019-0208.wav  \n",
            "  inflating: Data/wavs/LJ005-0014.wav  \n",
            "  inflating: Data/wavs/LJ024-0083.wav  \n",
            "  inflating: Data/wavs/LJ018-0334.wav  \n",
            "  inflating: Data/wavs/LJ013-0161.wav  \n",
            "  inflating: Data/wavs/LJ004-0067.wav  \n",
            "  inflating: Data/wavs/LJ028-0413.wav  \n",
            "  inflating: Data/wavs/LJ039-0237.wav  \n",
            "  inflating: Data/wavs/LJ040-0055.wav  \n",
            "  inflating: Data/wavs/LJ016-0061.wav  \n",
            "  inflating: Data/wavs/LJ025-0058.wav  \n",
            "  inflating: Data/wavs/LJ013-0214.wav  \n",
            "  inflating: Data/wavs/LJ011-0164.wav  \n",
            "  inflating: Data/wavs/LJ028-0184.wav  \n",
            "  inflating: Data/wavs/LJ049-0084.wav  \n",
            "  inflating: Data/wavs/LJ039-0187.wav  \n",
            "  inflating: Data/wavs/LJ012-0120.wav  \n",
            "  inflating: Data/wavs/LJ030-0250.wav  \n",
            "  inflating: Data/wavs/LJ002-0319.wav  \n",
            "  inflating: Data/wavs/LJ028-0123.wav  \n",
            "  inflating: Data/wavs/LJ019-0373.wav  \n",
            "  inflating: Data/wavs/LJ029-0032.wav  \n",
            "  inflating: Data/wavs/LJ015-0118.wav  \n",
            "  inflating: Data/wavs/LJ034-0114.wav  \n",
            "  inflating: Data/wavs/LJ015-0100.wav  \n",
            "  inflating: Data/wavs/LJ027-0082.wav  \n",
            "  inflating: Data/wavs/LJ022-0083.wav  \n",
            "  inflating: Data/wavs/LJ007-0046.wav  \n",
            "  inflating: Data/wavs/LJ042-0004.wav  \n",
            "  inflating: Data/wavs/LJ008-0223.wav  \n",
            "  inflating: Data/wavs/LJ004-0246.wav  \n",
            "  inflating: Data/wavs/LJ029-0021.wav  \n",
            "  inflating: Data/wavs/LJ019-0382.wav  \n",
            "  inflating: Data/wavs/LJ010-0225.wav  \n",
            "  inflating: Data/wavs/LJ050-0181.wav  \n",
            "  inflating: Data/wavs/LJ012-0203.wav  \n",
            "  inflating: Data/wavs/LJ044-0055.wav  \n",
            "  inflating: Data/wavs/LJ005-0284.wav  \n",
            "  inflating: Data/wavs/LJ029-0198.wav  \n",
            "  inflating: Data/wavs/LJ005-0202.wav  \n",
            "  inflating: Data/wavs/LJ007-0154.wav  \n",
            "  inflating: Data/wavs/LJ012-0036.wav  \n",
            "  inflating: Data/wavs/LJ028-0352.wav  \n",
            "  inflating: Data/wavs/LJ009-0114.wav  \n",
            "  inflating: Data/wavs/LJ008-0125.wav  \n",
            "  inflating: Data/wavs/LJ019-0090.wav  \n",
            "  inflating: Data/wavs/LJ011-0105.wav  \n",
            "  inflating: Data/wavs/LJ004-0132.wav  \n",
            "  inflating: Data/wavs/LJ008-0211.wav  \n",
            "  inflating: Data/wavs/LJ002-0185.wav  \n",
            "  inflating: Data/wavs/LJ039-0075.wav  \n",
            "  inflating: Data/wavs/LJ046-0012.wav  \n",
            "  inflating: Data/wavs/LJ015-0170.wav  \n",
            "  inflating: Data/wavs/LJ010-0215.wav  \n",
            "  inflating: Data/wavs/LJ028-0466.wav  \n",
            "  inflating: Data/wavs/LJ028-0169.wav  \n",
            "  inflating: Data/wavs/LJ019-0174.wav  \n",
            "  inflating: Data/wavs/LJ011-0203.wav  \n",
            "  inflating: Data/wavs/LJ014-0083.wav  \n",
            "  inflating: Data/wavs/LJ003-0345.wav  \n",
            "  inflating: Data/wavs/LJ009-0047.wav  \n",
            "  inflating: Data/wavs/LJ045-0020.wav  \n",
            "  inflating: Data/wavs/LJ018-0239.wav  \n",
            "  inflating: Data/wavs/LJ027-0028.wav  \n",
            "  inflating: Data/wavs/LJ005-0170.wav  \n",
            "  inflating: Data/wavs/LJ048-0241.wav  \n",
            "  inflating: Data/wavs/LJ038-0192.wav  \n",
            "  inflating: Data/wavs/LJ018-0017.wav  \n",
            "  inflating: Data/wavs/LJ043-0002.wav  \n",
            "  inflating: Data/wavs/LJ031-0038.wav  \n",
            "  inflating: Data/wavs/LJ018-0098.wav  \n",
            "  inflating: Data/wavs/LJ022-0096.wav  \n",
            "  inflating: Data/wavs/LJ043-0030.wav  \n",
            "  inflating: Data/wavs/LJ011-0227.wav  \n",
            "  inflating: Data/wavs/LJ050-0207.wav  \n",
            "  inflating: Data/wavs/LJ019-0178.wav  \n",
            "  inflating: Data/wavs/LJ010-0002.wav  \n",
            "  inflating: Data/wavs/LJ050-0234.wav  \n",
            "  inflating: Data/wavs/LJ047-0192.wav  \n",
            "  inflating: Data/wavs/LJ036-0053.wav  \n",
            "  inflating: Data/wavs/LJ016-0022.wav  \n",
            "  inflating: Data/wavs/LJ032-0270.wav  \n",
            "  inflating: Data/wavs/LJ004-0222.wav  \n",
            "  inflating: Data/wavs/LJ015-0281.wav  \n",
            "  inflating: Data/wavs/LJ043-0122.wav  \n",
            "  inflating: Data/wavs/LJ017-0244.wav  \n",
            "  inflating: Data/wavs/LJ023-0078.wav  \n",
            "  inflating: Data/wavs/LJ040-0209.wav  \n",
            "  inflating: Data/wavs/LJ024-0005.wav  \n",
            "  inflating: Data/wavs/LJ020-0052.wav  \n",
            "  inflating: Data/wavs/LJ016-0439.wav  \n",
            "  inflating: Data/wavs/LJ018-0305.wav  \n",
            "  inflating: Data/wavs/LJ008-0190.wav  \n",
            "  inflating: Data/wavs/LJ048-0194.wav  \n",
            "  inflating: Data/wavs/LJ015-0030.wav  \n",
            "  inflating: Data/wavs/LJ025-0096.wav  \n",
            "  inflating: Data/wavs/LJ011-0256.wav  \n",
            "  inflating: Data/wavs/LJ035-0200.wav  \n",
            "  inflating: Data/wavs/LJ010-0188.wav  \n",
            "  inflating: Data/wavs/LJ001-0178.wav  \n",
            "  inflating: Data/wavs/LJ019-0141.wav  \n",
            "  inflating: Data/wavs/LJ020-0072.wav  \n",
            "  inflating: Data/wavs/LJ003-0084.wav  \n",
            "  inflating: Data/wavs/LJ013-0096.wav  \n",
            "  inflating: Data/wavs/LJ017-0177.wav  \n",
            "  inflating: Data/wavs/LJ034-0213.wav  \n",
            "  inflating: Data/wavs/LJ047-0068.wav  \n",
            "  inflating: Data/wavs/LJ037-0219.wav  \n",
            "  inflating: Data/wavs/LJ014-0096.wav  \n",
            "  inflating: Data/wavs/LJ002-0277.wav  \n",
            "  inflating: Data/wavs/LJ035-0074.wav  \n",
            "  inflating: Data/wavs/LJ004-0152.wav  \n",
            "  inflating: Data/wavs/LJ011-0046.wav  \n",
            "  inflating: Data/wavs/LJ022-0089.wav  \n",
            "  inflating: Data/wavs/LJ031-0070.wav  \n",
            "  inflating: Data/wavs/LJ006-0133.wav  \n",
            "  inflating: Data/wavs/LJ036-0212.wav  \n",
            "  inflating: Data/wavs/LJ038-0022.wav  \n",
            "  inflating: Data/wavs/LJ019-0107.wav  \n",
            "  inflating: Data/wavs/LJ047-0131.wav  \n",
            "  inflating: Data/wavs/LJ030-0127.wav  \n",
            "  inflating: Data/wavs/LJ025-0087.wav  \n",
            "  inflating: Data/wavs/LJ002-0264.wav  \n",
            "  inflating: Data/wavs/LJ009-0100.wav  \n",
            "  inflating: Data/wavs/LJ037-0139.wav  \n",
            "  inflating: Data/wavs/LJ006-0115.wav  \n",
            "  inflating: Data/wavs/LJ043-0073.wav  \n",
            "  inflating: Data/wavs/LJ001-0110.wav  \n",
            "  inflating: Data/wavs/LJ035-0121.wav  \n",
            "  inflating: Data/wavs/LJ028-0506.wav  \n",
            "  inflating: Data/wavs/LJ038-0268.wav  \n",
            "  inflating: Data/wavs/LJ046-0129.wav  \n",
            "  inflating: Data/wavs/LJ020-0056.wav  \n",
            "  inflating: Data/wavs/LJ009-0012.wav  \n",
            "  inflating: Data/wavs/LJ050-0168.wav  \n",
            "  inflating: Data/wavs/LJ018-0293.wav  \n",
            "  inflating: Data/wavs/LJ035-0139.wav  \n",
            "  inflating: Data/wavs/LJ008-0175.wav  \n",
            "  inflating: Data/wavs/LJ015-0119.wav  \n",
            "  inflating: Data/wavs/LJ033-0149.wav  \n",
            "  inflating: Data/wavs/LJ003-0206.wav  \n",
            "  inflating: Data/wavs/LJ012-0052.wav  \n",
            "  inflating: Data/wavs/LJ035-0040.wav  \n",
            "  inflating: Data/wavs/LJ043-0165.wav  \n",
            "  inflating: Data/wavs/LJ014-0064.wav  \n",
            "  inflating: Data/wavs/LJ045-0105.wav  \n",
            "  inflating: Data/wavs/LJ002-0038.wav  \n",
            "  inflating: Data/wavs/LJ009-0050.wav  \n",
            "  inflating: Data/wavs/LJ022-0011.wav  \n"
          ]
        }
      ]
    },
    {
      "cell_type": "markdown",
      "source": [
        "### Change the finetuning config\n",
        "\n",
        "Depending on the GPU you got, you may want to change the bacth size, max audio length, epiochs and so on."
      ],
      "metadata": {
        "id": "_AlBQREWU8ud"
      }
    },
    {
      "cell_type": "code",
      "source": [
        "config_path = \"Configs/config_ft.yml\"\n",
        "\n",
        "import yaml\n",
        "config = yaml.safe_load(open(config_path))"
      ],
      "metadata": {
        "id": "7uEITi0hU4I2"
      },
      "execution_count": 4,
      "outputs": []
    },
    {
      "cell_type": "code",
      "source": [
        "config['data_params']['root_path'] = \"Data/wavs\"\n",
        "\n",
        "config['batch_size'] = 2 # not enough RAM\n",
        "config['max_len'] = 100 # not enough RAM\n",
        "config['loss_params']['joint_epoch'] = 110 # we do not do SLM adversarial training due to not enough RAM\n",
        "\n",
        "with open(config_path, 'w') as outfile:\n",
        "  yaml.dump(config, outfile, default_flow_style=True)"
      ],
      "metadata": {
        "id": "TPTRgOKSVT4K"
      },
      "execution_count": 5,
      "outputs": []
    },
    {
      "cell_type": "markdown",
      "source": [
        "### Start finetuning\n"
      ],
      "metadata": {
        "id": "uUuB_19NWj2Y"
      }
    },
    {
      "cell_type": "code",
      "source": [
        "!python train_finetune.py --config_path ./Configs/config_ft.yml"
      ],
      "metadata": {
        "id": "HZVAD5GKWm-O",
        "outputId": "4c92f332-66a6-4fbc-ae77-da169aa4d621",
        "colab": {
          "base_uri": "https://localhost:8080/"
        }
      },
      "execution_count": 6,
      "outputs": [
        {
          "output_type": "stream",
          "name": "stdout",
          "text": [
            "2025-09-20 09:24:52.752019: E external/local_xla/xla/stream_executor/cuda/cuda_fft.cc:467] Unable to register cuFFT factory: Attempting to register factory for plugin cuFFT when one has already been registered\n",
            "WARNING: All log messages before absl::InitializeLog() is called are written to STDERR\n",
            "E0000 00:00:1758360292.773176    1018 cuda_dnn.cc:8579] Unable to register cuDNN factory: Attempting to register factory for plugin cuDNN when one has already been registered\n",
            "E0000 00:00:1758360292.780295    1018 cuda_blas.cc:1407] Unable to register cuBLAS factory: Attempting to register factory for plugin cuBLAS when one has already been registered\n",
            "W0000 00:00:1758360292.804689    1018 computation_placer.cc:177] computation placer already registered. Please check linkage and avoid linking the same target more than once.\n",
            "W0000 00:00:1758360292.804720    1018 computation_placer.cc:177] computation placer already registered. Please check linkage and avoid linking the same target more than once.\n",
            "W0000 00:00:1758360292.804729    1018 computation_placer.cc:177] computation placer already registered. Please check linkage and avoid linking the same target more than once.\n",
            "W0000 00:00:1758360292.804733    1018 computation_placer.cc:177] computation placer already registered. Please check linkage and avoid linking the same target more than once.\n",
            "2025-09-20 09:24:52.812295: I tensorflow/core/platform/cpu_feature_guard.cc:210] This TensorFlow binary is optimized to use available CPU instructions in performance-critical operations.\n",
            "To enable the following instructions: AVX2 AVX512F FMA, in other operations, rebuild TensorFlow with the appropriate compiler flags.\n",
            "Traceback (most recent call last):\n",
            "  File \"/content/StyleTTS2/train_finetune.py\", line 707, in <module>\n",
            "    main()\n",
            "  File \"/usr/local/lib/python3.12/dist-packages/click/core.py\", line 1442, in __call__\n",
            "    return self.main(*args, **kwargs)\n",
            "           ^^^^^^^^^^^^^^^^^^^^^^^^^^\n",
            "  File \"/usr/local/lib/python3.12/dist-packages/click/core.py\", line 1363, in main\n",
            "    rv = self.invoke(ctx)\n",
            "         ^^^^^^^^^^^^^^^^\n",
            "  File \"/usr/local/lib/python3.12/dist-packages/click/core.py\", line 1226, in invoke\n",
            "    return ctx.invoke(self.callback, **ctx.params)\n",
            "           ^^^^^^^^^^^^^^^^^^^^^^^^^^^^^^^^^^^^^^^\n",
            "  File \"/usr/local/lib/python3.12/dist-packages/click/core.py\", line 794, in invoke\n",
            "    return callback(*args, **kwargs)\n",
            "           ^^^^^^^^^^^^^^^^^^^^^^^^^\n",
            "  File \"/content/StyleTTS2/train_finetune.py\", line 115, in main\n",
            "    text_aligner = load_ASR_models(ASR_path, ASR_config)\n",
            "                   ^^^^^^^^^^^^^^^^^^^^^^^^^^^^^^^^^^^^^\n",
            "  File \"/content/StyleTTS2/models.py\", line 609, in load_ASR_models\n",
            "    asr_model = _load_model(asr_model_config, ASR_MODEL_PATH)\n",
            "                ^^^^^^^^^^^^^^^^^^^^^^^^^^^^^^^^^^^^^^^^^^^^^\n",
            "  File \"/content/StyleTTS2/models.py\", line 604, in _load_model\n",
            "    params = torch.load(model_path, map_location='cpu')['model']\n",
            "             ^^^^^^^^^^^^^^^^^^^^^^^^^^^^^^^^^^^^^^^^^^\n",
            "  File \"/usr/local/lib/python3.12/dist-packages/torch/serialization.py\", line 1529, in load\n",
            "    raise pickle.UnpicklingError(_get_wo_message(str(e))) from None\n",
            "_pickle.UnpicklingError: Weights only load failed. This file can still be loaded, to do so you have two options, \u001b[1mdo those steps only if you trust the source of the checkpoint\u001b[0m. \n",
            "\t(1) In PyTorch 2.6, we changed the default value of the `weights_only` argument in `torch.load` from `False` to `True`. Re-running `torch.load` with `weights_only` set to `False` will likely succeed, but it can result in arbitrary code execution. Do it only if you got the file from a trusted source.\n",
            "\t(2) Alternatively, to load with `weights_only=True` please check the recommended steps in the following error message.\n",
            "\tWeightsUnpickler error: Unsupported global: GLOBAL getattr was not an allowed global by default. Please use `torch.serialization.add_safe_globals([getattr])` or the `torch.serialization.safe_globals([getattr])` context manager to allowlist this global if you trust this class/function.\n",
            "\n",
            "Check the documentation of torch.load to learn more about types accepted by default with weights_only https://pytorch.org/docs/stable/generated/torch.load.html.\n"
          ]
        }
      ]
    },
    {
      "cell_type": "markdown",
      "source": [
        "### Test the model quality\n",
        "\n",
        "Note that this mainly serves as a proof of concept due to RAM limitation of free Colab instances. A lot of settings are suboptimal. In the future when DDP works for train_second.py, we will also add mixed precision finetuning to save time and RAM. You can also add SLM adversarial training run if you have paid Colab services (such as A100 with 40G of RAM)."
      ],
      "metadata": {
        "id": "I0_7wsGkXGfc"
      }
    },
    {
      "cell_type": "code",
      "source": [
        "import nltk\n",
        "nltk.download('punkt')"
      ],
      "metadata": {
        "id": "OPLphjbncE7p",
        "outputId": "33fd1aeb-6f12-4124-a2ad-ce96e157223a",
        "colab": {
          "base_uri": "https://localhost:8080/"
        }
      },
      "execution_count": 7,
      "outputs": [
        {
          "output_type": "stream",
          "name": "stderr",
          "text": [
            "[nltk_data] Downloading package punkt to /root/nltk_data...\n",
            "[nltk_data]   Unzipping tokenizers/punkt.zip.\n"
          ]
        },
        {
          "output_type": "execute_result",
          "data": {
            "text/plain": [
              "True"
            ]
          },
          "metadata": {},
          "execution_count": 7
        }
      ]
    },
    {
      "cell_type": "code",
      "source": [
        "import torch\n",
        "torch.manual_seed(0)\n",
        "torch.backends.cudnn.benchmark = False\n",
        "torch.backends.cudnn.deterministic = True\n",
        "\n",
        "import random\n",
        "random.seed(0)\n",
        "\n",
        "import numpy as np\n",
        "np.random.seed(0)\n",
        "\n",
        "# load packages\n",
        "import time\n",
        "import random\n",
        "import yaml\n",
        "from munch import Munch\n",
        "import numpy as np\n",
        "import torch\n",
        "from torch import nn\n",
        "import torch.nn.functional as F\n",
        "import torchaudio\n",
        "import librosa\n",
        "from nltk.tokenize import word_tokenize\n",
        "\n",
        "from models import *\n",
        "from utils import *\n",
        "from text_utils import TextCleaner\n",
        "textclenaer = TextCleaner()\n",
        "\n",
        "%matplotlib inline\n",
        "\n",
        "to_mel = torchaudio.transforms.MelSpectrogram(\n",
        "    n_mels=80, n_fft=2048, win_length=1200, hop_length=300)\n",
        "mean, std = -4, 4\n",
        "\n",
        "def length_to_mask(lengths):\n",
        "    mask = torch.arange(lengths.max()).unsqueeze(0).expand(lengths.shape[0], -1).type_as(lengths)\n",
        "    mask = torch.gt(mask+1, lengths.unsqueeze(1))\n",
        "    return mask\n",
        "\n",
        "def preprocess(wave):\n",
        "    wave_tensor = torch.from_numpy(wave).float()\n",
        "    mel_tensor = to_mel(wave_tensor)\n",
        "    mel_tensor = (torch.log(1e-5 + mel_tensor.unsqueeze(0)) - mean) / std\n",
        "    return mel_tensor\n",
        "\n",
        "def compute_style(path):\n",
        "    wave, sr = librosa.load(path, sr=24000)\n",
        "    audio, index = librosa.effects.trim(wave, top_db=30)\n",
        "    if sr != 24000:\n",
        "        audio = librosa.resample(audio, sr, 24000)\n",
        "    mel_tensor = preprocess(audio).to(device)\n",
        "\n",
        "    with torch.no_grad():\n",
        "        ref_s = model.style_encoder(mel_tensor.unsqueeze(1))\n",
        "        ref_p = model.predictor_encoder(mel_tensor.unsqueeze(1))\n",
        "\n",
        "    return torch.cat([ref_s, ref_p], dim=1)\n",
        "\n",
        "device = 'cuda' if torch.cuda.is_available() else 'cpu'\n",
        "\n",
        "# load phonemizer\n",
        "import phonemizer\n",
        "global_phonemizer = phonemizer.backend.EspeakBackend(language='en-us', preserve_punctuation=True,  with_stress=True)\n",
        "\n",
        "config = yaml.safe_load(open(\"Models/LJSpeech/config_ft.yml\"))\n",
        "\n",
        "# load pretrained ASR model\n",
        "ASR_config = config.get('ASR_config', False)\n",
        "ASR_path = config.get('ASR_path', False)\n",
        "text_aligner = load_ASR_models(ASR_path, ASR_config)\n",
        "\n",
        "# load pretrained F0 model\n",
        "F0_path = config.get('F0_path', False)\n",
        "pitch_extractor = load_F0_models(F0_path)\n",
        "\n",
        "# load BERT model\n",
        "from Utils.PLBERT.util import load_plbert\n",
        "BERT_path = config.get('PLBERT_dir', False)\n",
        "plbert = load_plbert(BERT_path)\n",
        "\n",
        "model_params = recursive_munch(config['model_params'])\n",
        "model = build_model(model_params, text_aligner, pitch_extractor, plbert)\n",
        "_ = [model[key].eval() for key in model]\n",
        "_ = [model[key].to(device) for key in model]"
      ],
      "metadata": {
        "id": "jIIAoDACXJL0",
        "outputId": "5396bc0a-1ceb-4893-f078-159a9715685e",
        "colab": {
          "base_uri": "https://localhost:8080/",
          "height": 547
        }
      },
      "execution_count": 8,
      "outputs": [
        {
          "output_type": "stream",
          "name": "stdout",
          "text": [
            "177\n"
          ]
        },
        {
          "output_type": "error",
          "ename": "UnpicklingError",
          "evalue": "Weights only load failed. This file can still be loaded, to do so you have two options, \u001b[1mdo those steps only if you trust the source of the checkpoint\u001b[0m. \n\t(1) In PyTorch 2.6, we changed the default value of the `weights_only` argument in `torch.load` from `False` to `True`. Re-running `torch.load` with `weights_only` set to `False` will likely succeed, but it can result in arbitrary code execution. Do it only if you got the file from a trusted source.\n\t(2) Alternatively, to load with `weights_only=True` please check the recommended steps in the following error message.\n\tWeightsUnpickler error: Unsupported global: GLOBAL getattr was not an allowed global by default. Please use `torch.serialization.add_safe_globals([getattr])` or the `torch.serialization.safe_globals([getattr])` context manager to allowlist this global if you trust this class/function.\n\nCheck the documentation of torch.load to learn more about types accepted by default with weights_only https://pytorch.org/docs/stable/generated/torch.load.html.",
          "traceback": [
            "\u001b[0;31m---------------------------------------------------------------------------\u001b[0m",
            "\u001b[0;31mUnpicklingError\u001b[0m                           Traceback (most recent call last)",
            "\u001b[0;32m/tmp/ipython-input-1728782979.py\u001b[0m in \u001b[0;36m<cell line: 0>\u001b[0;34m()\u001b[0m\n\u001b[1;32m     69\u001b[0m \u001b[0mASR_config\u001b[0m \u001b[0;34m=\u001b[0m \u001b[0mconfig\u001b[0m\u001b[0;34m.\u001b[0m\u001b[0mget\u001b[0m\u001b[0;34m(\u001b[0m\u001b[0;34m'ASR_config'\u001b[0m\u001b[0;34m,\u001b[0m \u001b[0;32mFalse\u001b[0m\u001b[0;34m)\u001b[0m\u001b[0;34m\u001b[0m\u001b[0;34m\u001b[0m\u001b[0m\n\u001b[1;32m     70\u001b[0m \u001b[0mASR_path\u001b[0m \u001b[0;34m=\u001b[0m \u001b[0mconfig\u001b[0m\u001b[0;34m.\u001b[0m\u001b[0mget\u001b[0m\u001b[0;34m(\u001b[0m\u001b[0;34m'ASR_path'\u001b[0m\u001b[0;34m,\u001b[0m \u001b[0;32mFalse\u001b[0m\u001b[0;34m)\u001b[0m\u001b[0;34m\u001b[0m\u001b[0;34m\u001b[0m\u001b[0m\n\u001b[0;32m---> 71\u001b[0;31m \u001b[0mtext_aligner\u001b[0m \u001b[0;34m=\u001b[0m \u001b[0mload_ASR_models\u001b[0m\u001b[0;34m(\u001b[0m\u001b[0mASR_path\u001b[0m\u001b[0;34m,\u001b[0m \u001b[0mASR_config\u001b[0m\u001b[0;34m)\u001b[0m\u001b[0;34m\u001b[0m\u001b[0;34m\u001b[0m\u001b[0m\n\u001b[0m\u001b[1;32m     72\u001b[0m \u001b[0;34m\u001b[0m\u001b[0m\n\u001b[1;32m     73\u001b[0m \u001b[0;31m# load pretrained F0 model\u001b[0m\u001b[0;34m\u001b[0m\u001b[0;34m\u001b[0m\u001b[0m\n",
            "\u001b[0;32m/content/StyleTTS2/models.py\u001b[0m in \u001b[0;36mload_ASR_models\u001b[0;34m(ASR_MODEL_PATH, ASR_MODEL_CONFIG)\u001b[0m\n\u001b[1;32m    607\u001b[0m \u001b[0;34m\u001b[0m\u001b[0m\n\u001b[1;32m    608\u001b[0m     \u001b[0masr_model_config\u001b[0m \u001b[0;34m=\u001b[0m \u001b[0m_load_config\u001b[0m\u001b[0;34m(\u001b[0m\u001b[0mASR_MODEL_CONFIG\u001b[0m\u001b[0;34m)\u001b[0m\u001b[0;34m\u001b[0m\u001b[0;34m\u001b[0m\u001b[0m\n\u001b[0;32m--> 609\u001b[0;31m     \u001b[0masr_model\u001b[0m \u001b[0;34m=\u001b[0m \u001b[0m_load_model\u001b[0m\u001b[0;34m(\u001b[0m\u001b[0masr_model_config\u001b[0m\u001b[0;34m,\u001b[0m \u001b[0mASR_MODEL_PATH\u001b[0m\u001b[0;34m)\u001b[0m\u001b[0;34m\u001b[0m\u001b[0;34m\u001b[0m\u001b[0m\n\u001b[0m\u001b[1;32m    610\u001b[0m     \u001b[0m_\u001b[0m \u001b[0;34m=\u001b[0m \u001b[0masr_model\u001b[0m\u001b[0;34m.\u001b[0m\u001b[0mtrain\u001b[0m\u001b[0;34m(\u001b[0m\u001b[0;34m)\u001b[0m\u001b[0;34m\u001b[0m\u001b[0;34m\u001b[0m\u001b[0m\n\u001b[1;32m    611\u001b[0m \u001b[0;34m\u001b[0m\u001b[0m\n",
            "\u001b[0;32m/content/StyleTTS2/models.py\u001b[0m in \u001b[0;36m_load_model\u001b[0;34m(model_config, model_path)\u001b[0m\n\u001b[1;32m    602\u001b[0m     \u001b[0;32mdef\u001b[0m \u001b[0m_load_model\u001b[0m\u001b[0;34m(\u001b[0m\u001b[0mmodel_config\u001b[0m\u001b[0;34m,\u001b[0m \u001b[0mmodel_path\u001b[0m\u001b[0;34m)\u001b[0m\u001b[0;34m:\u001b[0m\u001b[0;34m\u001b[0m\u001b[0;34m\u001b[0m\u001b[0m\n\u001b[1;32m    603\u001b[0m         \u001b[0mmodel\u001b[0m \u001b[0;34m=\u001b[0m \u001b[0mASRCNN\u001b[0m\u001b[0;34m(\u001b[0m\u001b[0;34m**\u001b[0m\u001b[0mmodel_config\u001b[0m\u001b[0;34m)\u001b[0m\u001b[0;34m\u001b[0m\u001b[0;34m\u001b[0m\u001b[0m\n\u001b[0;32m--> 604\u001b[0;31m         \u001b[0mparams\u001b[0m \u001b[0;34m=\u001b[0m \u001b[0mtorch\u001b[0m\u001b[0;34m.\u001b[0m\u001b[0mload\u001b[0m\u001b[0;34m(\u001b[0m\u001b[0mmodel_path\u001b[0m\u001b[0;34m,\u001b[0m \u001b[0mmap_location\u001b[0m\u001b[0;34m=\u001b[0m\u001b[0;34m'cpu'\u001b[0m\u001b[0;34m)\u001b[0m\u001b[0;34m[\u001b[0m\u001b[0;34m'model'\u001b[0m\u001b[0;34m]\u001b[0m\u001b[0;34m\u001b[0m\u001b[0;34m\u001b[0m\u001b[0m\n\u001b[0m\u001b[1;32m    605\u001b[0m         \u001b[0mmodel\u001b[0m\u001b[0;34m.\u001b[0m\u001b[0mload_state_dict\u001b[0m\u001b[0;34m(\u001b[0m\u001b[0mparams\u001b[0m\u001b[0;34m)\u001b[0m\u001b[0;34m\u001b[0m\u001b[0;34m\u001b[0m\u001b[0m\n\u001b[1;32m    606\u001b[0m         \u001b[0;32mreturn\u001b[0m \u001b[0mmodel\u001b[0m\u001b[0;34m\u001b[0m\u001b[0;34m\u001b[0m\u001b[0m\n",
            "\u001b[0;32m/usr/local/lib/python3.12/dist-packages/torch/serialization.py\u001b[0m in \u001b[0;36mload\u001b[0;34m(f, map_location, pickle_module, weights_only, mmap, **pickle_load_args)\u001b[0m\n\u001b[1;32m   1527\u001b[0m                         )\n\u001b[1;32m   1528\u001b[0m                     \u001b[0;32mexcept\u001b[0m \u001b[0mpickle\u001b[0m\u001b[0;34m.\u001b[0m\u001b[0mUnpicklingError\u001b[0m \u001b[0;32mas\u001b[0m \u001b[0me\u001b[0m\u001b[0;34m:\u001b[0m\u001b[0;34m\u001b[0m\u001b[0;34m\u001b[0m\u001b[0m\n\u001b[0;32m-> 1529\u001b[0;31m                         \u001b[0;32mraise\u001b[0m \u001b[0mpickle\u001b[0m\u001b[0;34m.\u001b[0m\u001b[0mUnpicklingError\u001b[0m\u001b[0;34m(\u001b[0m\u001b[0m_get_wo_message\u001b[0m\u001b[0;34m(\u001b[0m\u001b[0mstr\u001b[0m\u001b[0;34m(\u001b[0m\u001b[0me\u001b[0m\u001b[0;34m)\u001b[0m\u001b[0;34m)\u001b[0m\u001b[0;34m)\u001b[0m \u001b[0;32mfrom\u001b[0m \u001b[0;32mNone\u001b[0m\u001b[0;34m\u001b[0m\u001b[0;34m\u001b[0m\u001b[0m\n\u001b[0m\u001b[1;32m   1530\u001b[0m                 return _load(\n\u001b[1;32m   1531\u001b[0m                     \u001b[0mopened_zipfile\u001b[0m\u001b[0;34m,\u001b[0m\u001b[0;34m\u001b[0m\u001b[0;34m\u001b[0m\u001b[0m\n",
            "\u001b[0;31mUnpicklingError\u001b[0m: Weights only load failed. This file can still be loaded, to do so you have two options, \u001b[1mdo those steps only if you trust the source of the checkpoint\u001b[0m. \n\t(1) In PyTorch 2.6, we changed the default value of the `weights_only` argument in `torch.load` from `False` to `True`. Re-running `torch.load` with `weights_only` set to `False` will likely succeed, but it can result in arbitrary code execution. Do it only if you got the file from a trusted source.\n\t(2) Alternatively, to load with `weights_only=True` please check the recommended steps in the following error message.\n\tWeightsUnpickler error: Unsupported global: GLOBAL getattr was not an allowed global by default. Please use `torch.serialization.add_safe_globals([getattr])` or the `torch.serialization.safe_globals([getattr])` context manager to allowlist this global if you trust this class/function.\n\nCheck the documentation of torch.load to learn more about types accepted by default with weights_only https://pytorch.org/docs/stable/generated/torch.load.html."
          ]
        }
      ]
    },
    {
      "cell_type": "code",
      "source": [
        "files = [f for f in os.listdir(\"Models/LJSpeech/\") if f.endswith('.pth')]\n",
        "sorted_files = sorted(files, key=lambda x: int(x.split('_')[-1].split('.')[0]))"
      ],
      "metadata": {
        "id": "eKXRAyyzcMpQ"
      },
      "execution_count": null,
      "outputs": []
    },
    {
      "cell_type": "code",
      "source": [
        "params_whole = torch.load(\"Models/LJSpeech/\" + sorted_files[-1], map_location='cpu')\n",
        "params = params_whole['net']"
      ],
      "metadata": {
        "id": "ULuU9-VDb9Pk"
      },
      "execution_count": null,
      "outputs": []
    },
    {
      "cell_type": "code",
      "source": [
        "for key in model:\n",
        "    if key in params:\n",
        "        print('%s loaded' % key)\n",
        "        try:\n",
        "            model[key].load_state_dict(params[key])\n",
        "        except:\n",
        "            from collections import OrderedDict\n",
        "            state_dict = params[key]\n",
        "            new_state_dict = OrderedDict()\n",
        "            for k, v in state_dict.items():\n",
        "                name = k[7:] # remove `module.`\n",
        "                new_state_dict[name] = v\n",
        "            # load params\n",
        "            model[key].load_state_dict(new_state_dict, strict=False)\n",
        "#             except:\n",
        "#                 _load(params[key], model[key])\n",
        "_ = [model[key].eval() for key in model]"
      ],
      "metadata": {
        "id": "J-U29yIYc2ea"
      },
      "execution_count": null,
      "outputs": []
    },
    {
      "cell_type": "code",
      "source": [
        "from Modules.diffusion.sampler import DiffusionSampler, ADPM2Sampler, KarrasSchedule"
      ],
      "metadata": {
        "id": "jrPQ_Yrwc3n6"
      },
      "execution_count": null,
      "outputs": []
    },
    {
      "cell_type": "code",
      "source": [
        "sampler = DiffusionSampler(\n",
        "    model.diffusion.diffusion,\n",
        "    sampler=ADPM2Sampler(),\n",
        "    sigma_schedule=KarrasSchedule(sigma_min=0.0001, sigma_max=3.0, rho=9.0), # empirical parameters\n",
        "    clamp=False\n",
        ")"
      ],
      "metadata": {
        "id": "n2CWYNoqc455"
      },
      "execution_count": null,
      "outputs": []
    },
    {
      "cell_type": "code",
      "source": [
        "def inference(text, ref_s, alpha = 0.3, beta = 0.7, diffusion_steps=5, embedding_scale=1):\n",
        "    text = text.strip()\n",
        "    ps = global_phonemizer.phonemize([text])\n",
        "    ps = word_tokenize(ps[0])\n",
        "    ps = ' '.join(ps)\n",
        "    tokens = textclenaer(ps)\n",
        "    tokens.insert(0, 0)\n",
        "    tokens = torch.LongTensor(tokens).to(device).unsqueeze(0)\n",
        "\n",
        "    with torch.no_grad():\n",
        "        input_lengths = torch.LongTensor([tokens.shape[-1]]).to(device)\n",
        "        text_mask = length_to_mask(input_lengths).to(device)\n",
        "\n",
        "        t_en = model.text_encoder(tokens, input_lengths, text_mask)\n",
        "        bert_dur = model.bert(tokens, attention_mask=(~text_mask).int())\n",
        "        d_en = model.bert_encoder(bert_dur).transpose(-1, -2)\n",
        "\n",
        "        s_pred = sampler(noise = torch.randn((1, 256)).unsqueeze(1).to(device),\n",
        "                                          embedding=bert_dur,\n",
        "                                          embedding_scale=embedding_scale,\n",
        "                                            features=ref_s, # reference from the same speaker as the embedding\n",
        "                                             num_steps=diffusion_steps).squeeze(1)\n",
        "\n",
        "\n",
        "        s = s_pred[:, 128:]\n",
        "        ref = s_pred[:, :128]\n",
        "\n",
        "        ref = alpha * ref + (1 - alpha)  * ref_s[:, :128]\n",
        "        s = beta * s + (1 - beta)  * ref_s[:, 128:]\n",
        "\n",
        "        d = model.predictor.text_encoder(d_en,\n",
        "                                         s, input_lengths, text_mask)\n",
        "\n",
        "        x, _ = model.predictor.lstm(d)\n",
        "        duration = model.predictor.duration_proj(x)\n",
        "\n",
        "        duration = torch.sigmoid(duration).sum(axis=-1)\n",
        "        pred_dur = torch.round(duration.squeeze()).clamp(min=1)\n",
        "\n",
        "        pred_aln_trg = torch.zeros(input_lengths, int(pred_dur.sum().data))\n",
        "        c_frame = 0\n",
        "        for i in range(pred_aln_trg.size(0)):\n",
        "            pred_aln_trg[i, c_frame:c_frame + int(pred_dur[i].data)] = 1\n",
        "            c_frame += int(pred_dur[i].data)\n",
        "\n",
        "        # encode prosody\n",
        "        en = (d.transpose(-1, -2) @ pred_aln_trg.unsqueeze(0).to(device))\n",
        "        if model_params.decoder.type == \"hifigan\":\n",
        "            asr_new = torch.zeros_like(en)\n",
        "            asr_new[:, :, 0] = en[:, :, 0]\n",
        "            asr_new[:, :, 1:] = en[:, :, 0:-1]\n",
        "            en = asr_new\n",
        "\n",
        "        F0_pred, N_pred = model.predictor.F0Ntrain(en, s)\n",
        "\n",
        "        asr = (t_en @ pred_aln_trg.unsqueeze(0).to(device))\n",
        "        if model_params.decoder.type == \"hifigan\":\n",
        "            asr_new = torch.zeros_like(asr)\n",
        "            asr_new[:, :, 0] = asr[:, :, 0]\n",
        "            asr_new[:, :, 1:] = asr[:, :, 0:-1]\n",
        "            asr = asr_new\n",
        "\n",
        "        out = model.decoder(asr,\n",
        "                                F0_pred, N_pred, ref.squeeze().unsqueeze(0))\n",
        "\n",
        "\n",
        "    return out.squeeze().cpu().numpy()[..., :-50] # weird pulse at the end of the model, need to be fixed later"
      ],
      "metadata": {
        "id": "2x5kVb3nc_eY"
      },
      "execution_count": null,
      "outputs": []
    },
    {
      "cell_type": "markdown",
      "source": [
        "### Synthesize speech"
      ],
      "metadata": {
        "id": "O159JnwCc6CC"
      }
    },
    {
      "cell_type": "code",
      "source": [
        "text = '''Maltby and Company would issue warrants on them deliverable to the importer, and the goods were then passed to be stored in neighboring warehouses.\n",
        "'''"
      ],
      "metadata": {
        "id": "ThciXQ6rc9Eq"
      },
      "execution_count": null,
      "outputs": []
    },
    {
      "cell_type": "code",
      "source": [
        "# get a random reference in the training set, note that it doesn't matter which one you use\n",
        "path = \"Data/wavs/LJ001-0110.wav\"\n",
        "# this style vector ref_s can be saved as a parameter together with the model weights\n",
        "ref_s = compute_style(path)"
      ],
      "metadata": {
        "id": "jldPkJyCc83a"
      },
      "execution_count": null,
      "outputs": []
    },
    {
      "cell_type": "code",
      "source": [
        "start = time.time()\n",
        "wav = inference(text, ref_s, alpha=0.9, beta=0.9, diffusion_steps=10, embedding_scale=1)\n",
        "rtf = (time.time() - start) / (len(wav) / 24000)\n",
        "print(f\"RTF = {rtf:5f}\")\n",
        "import IPython.display as ipd\n",
        "display(ipd.Audio(wav, rate=24000, normalize=False))"
      ],
      "metadata": {
        "id": "_mIU0jqDdQ-c"
      },
      "execution_count": null,
      "outputs": []
    }
  ]
}