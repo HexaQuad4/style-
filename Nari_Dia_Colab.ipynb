{
  "cells": [
    {
      "cell_type": "markdown",
      "metadata": {
        "id": "view-in-github",
        "colab_type": "text"
      },
      "source": [
        "<a href=\"https://colab.research.google.com/github/HexaQuad4/style-/blob/main/Nari_Dia_Colab.ipynb\" target=\"_parent\"><img src=\"https://colab.research.google.com/assets/colab-badge.svg\" alt=\"Open In Colab\"/></a>"
      ]
    },
    {
      "cell_type": "markdown",
      "id": "14cd6cc8",
      "metadata": {
        "id": "14cd6cc8"
      },
      "source": [
        "# 🎤 Nari Dia TTS - Colab Notebook\n",
        "\n",
        "This notebook runs the [Nari Dia TTS](https://github.com/nari-labs/dia) model from the `nari-dia-colab` fork. It is designed to run in Google Colab using a T4 GPU and avoids AMP-related dtype errors by forcing float32 precision.\n",
        "\n",
        "---\n",
        "\n",
        "## 📌 How to Use\n",
        "\n",
        "1. Go to **Runtime > Change runtime type** and set the Hardware Accelerator to `GPU`\n",
        "2. Click **File > Save a copy in Drive** to keep your own version\n",
        "3. Run each cell in order (Shift + Enter)\n",
        "4. When the app launches, click the `gradio.live` link to interact\n",
        "    - Provide text prompts like `[S1] Hello [S2] How are you?`\n",
        "    - Optionally upload an audio clip to condition the voice\n",
        "5. Press the stop button or `Runtime > Factory reset runtime` to disconnect\n",
        "\n",
        "---\n",
        "\n",
        "## ⚙️ Environment Setup\n"
      ]
    },
    {
      "cell_type": "code",
      "execution_count": 1,
      "id": "d616534c",
      "metadata": {
        "id": "d616534c",
        "outputId": "528d39d4-35a2-4a72-c017-cb46e49a1856",
        "colab": {
          "base_uri": "https://localhost:8080/"
        }
      },
      "outputs": [
        {
          "output_type": "stream",
          "name": "stdout",
          "text": [
            "Mon Oct  6 06:57:35 2025       \n",
            "+-----------------------------------------------------------------------------------------+\n",
            "| NVIDIA-SMI 550.54.15              Driver Version: 550.54.15      CUDA Version: 12.4     |\n",
            "|-----------------------------------------+------------------------+----------------------+\n",
            "| GPU  Name                 Persistence-M | Bus-Id          Disp.A | Volatile Uncorr. ECC |\n",
            "| Fan  Temp   Perf          Pwr:Usage/Cap |           Memory-Usage | GPU-Util  Compute M. |\n",
            "|                                         |                        |               MIG M. |\n",
            "|=========================================+========================+======================|\n",
            "|   0  Tesla T4                       Off |   00000000:00:04.0 Off |                    0 |\n",
            "| N/A   38C    P8             11W /   70W |       0MiB /  15360MiB |      0%      Default |\n",
            "|                                         |                        |                  N/A |\n",
            "+-----------------------------------------+------------------------+----------------------+\n",
            "                                                                                         \n",
            "+-----------------------------------------------------------------------------------------+\n",
            "| Processes:                                                                              |\n",
            "|  GPU   GI   CI        PID   Type   Process name                              GPU Memory |\n",
            "|        ID   ID                                                               Usage      |\n",
            "|=========================================================================================|\n",
            "|  No running processes found                                                             |\n",
            "+-----------------------------------------------------------------------------------------+\n"
          ]
        }
      ],
      "source": [
        "# Check GPU (should show T4 or compatible)\n",
        "!nvidia-smi"
      ]
    },
    {
      "cell_type": "code",
      "execution_count": 2,
      "id": "1e868456",
      "metadata": {
        "id": "1e868456",
        "outputId": "a5c3c312-05e8-4d6e-a269-dabcf32cc706",
        "colab": {
          "base_uri": "https://localhost:8080/"
        }
      },
      "outputs": [
        {
          "output_type": "stream",
          "name": "stdout",
          "text": [
            "fatal: destination path 'nari-dia-colab' already exists and is not an empty directory.\n",
            "/content/nari-dia-colab\n"
          ]
        }
      ],
      "source": [
        "# Clone the Colab-compatible fork\n",
        "!git clone https://github.com/arcaneum/nari-dia-colab.git\n",
        "%cd nari-dia-colab"
      ]
    },
    {
      "cell_type": "code",
      "execution_count": 3,
      "id": "0da901da",
      "metadata": {
        "id": "0da901da",
        "outputId": "d170aa35-0f10-42b5-af53-750ede5f482d",
        "colab": {
          "base_uri": "https://localhost:8080/"
        }
      },
      "outputs": [
        {
          "output_type": "stream",
          "name": "stdout",
          "text": [
            "Found existing installation: torch 2.8.0\n",
            "Uninstalling torch-2.8.0:\n",
            "  Successfully uninstalled torch-2.8.0\n",
            "\u001b[33mWARNING: Skipping torchvision as it is not installed.\u001b[0m\u001b[33m\n",
            "\u001b[0mFound existing installation: torchaudio 2.8.0\n",
            "Uninstalling torchaudio-2.8.0:\n",
            "  Successfully uninstalled torchaudio-2.8.0\n",
            "Looking in indexes: https://download.pytorch.org/whl/cu118\n",
            "\u001b[31mERROR: Could not find a version that satisfies the requirement torch==2.1.0 (from versions: 2.2.0+cu118, 2.2.1+cu118, 2.2.2+cu118, 2.3.0+cu118, 2.3.1+cu118, 2.4.0+cu118, 2.4.1+cu118, 2.5.0+cu118, 2.5.1+cu118, 2.6.0+cu118, 2.7.0+cu118, 2.7.1+cu118)\u001b[0m\u001b[31m\n",
            "\u001b[0m\u001b[31mERROR: No matching distribution found for torch==2.1.0\u001b[0m\u001b[31m\n",
            "\u001b[0m"
          ]
        }
      ],
      "source": [
        "# Reinstall PyTorch with T4-compatible CUDA 11.8\n",
        "!pip uninstall -y torch torchvision torchaudio -y\n",
        "!pip install torch==2.1.0 torchvision==0.16.0 torchaudio==2.1.0 --index-url https://download.pytorch.org/whl/cu118"
      ]
    },
    {
      "cell_type": "code",
      "execution_count": 4,
      "id": "8ca38135",
      "metadata": {
        "id": "8ca38135",
        "outputId": "04b21c55-15d1-4f85-a788-0a3670f46b07",
        "colab": {
          "base_uri": "https://localhost:8080/"
        }
      },
      "outputs": [
        {
          "output_type": "stream",
          "name": "stdout",
          "text": [
            "Obtaining file:///content/nari-dia-colab\n",
            "  Installing build dependencies ... \u001b[?25l\u001b[?25hdone\n",
            "  Checking if build backend supports build_editable ... \u001b[?25l\u001b[?25hdone\n",
            "  Getting requirements to build editable ... \u001b[?25l\u001b[?25hdone\n",
            "  Installing backend dependencies ... \u001b[?25l\u001b[?25hdone\n",
            "  Preparing editable metadata (pyproject.toml) ... \u001b[?25l\u001b[?25hdone\n",
            "Requirement already satisfied: descript-audio-codec>=1.0.0 in /usr/local/lib/python3.12/dist-packages (from nari-tts==0.1.0) (1.0.0)\n",
            "Requirement already satisfied: gradio>=5.25.2 in /usr/local/lib/python3.12/dist-packages (from nari-tts==0.1.0) (5.47.2)\n",
            "Requirement already satisfied: huggingface-hub>=0.30.2 in /usr/local/lib/python3.12/dist-packages (from nari-tts==0.1.0) (0.35.3)\n",
            "Requirement already satisfied: numpy>=2.2.4 in /usr/local/lib/python3.12/dist-packages (from nari-tts==0.1.0) (2.3.3)\n",
            "Requirement already satisfied: pydantic>=2.11.3 in /usr/local/lib/python3.12/dist-packages (from nari-tts==0.1.0) (2.11.9)\n",
            "Requirement already satisfied: soundfile>=0.13.1 in /usr/local/lib/python3.12/dist-packages (from nari-tts==0.1.0) (0.13.1)\n",
            "Collecting torch>=2.6.0 (from nari-tts==0.1.0)\n",
            "  Using cached torch-2.8.0-cp312-cp312-manylinux_2_28_x86_64.whl.metadata (30 kB)\n",
            "Collecting torchaudio>=2.6.0 (from nari-tts==0.1.0)\n",
            "  Using cached torchaudio-2.8.0-cp312-cp312-manylinux_2_28_x86_64.whl.metadata (7.2 kB)\n",
            "Requirement already satisfied: triton>=3.2.0 in /usr/local/lib/python3.12/dist-packages (from nari-tts==0.1.0) (3.4.0)\n",
            "Requirement already satisfied: argbind>=0.3.7 in /usr/local/lib/python3.12/dist-packages (from descript-audio-codec>=1.0.0->nari-tts==0.1.0) (0.3.9)\n",
            "Requirement already satisfied: descript-audiotools>=0.7.2 in /usr/local/lib/python3.12/dist-packages (from descript-audio-codec>=1.0.0->nari-tts==0.1.0) (0.7.2)\n",
            "Requirement already satisfied: einops in /usr/local/lib/python3.12/dist-packages (from descript-audio-codec>=1.0.0->nari-tts==0.1.0) (0.8.1)\n",
            "Requirement already satisfied: tqdm in /usr/local/lib/python3.12/dist-packages (from descript-audio-codec>=1.0.0->nari-tts==0.1.0) (4.67.1)\n",
            "Requirement already satisfied: aiofiles<25.0,>=22.0 in /usr/local/lib/python3.12/dist-packages (from gradio>=5.25.2->nari-tts==0.1.0) (24.1.0)\n",
            "Requirement already satisfied: anyio<5.0,>=3.0 in /usr/local/lib/python3.12/dist-packages (from gradio>=5.25.2->nari-tts==0.1.0) (4.11.0)\n",
            "Requirement already satisfied: brotli>=1.1.0 in /usr/local/lib/python3.12/dist-packages (from gradio>=5.25.2->nari-tts==0.1.0) (1.1.0)\n",
            "Requirement already satisfied: fastapi<1.0,>=0.115.2 in /usr/local/lib/python3.12/dist-packages (from gradio>=5.25.2->nari-tts==0.1.0) (0.118.0)\n",
            "Requirement already satisfied: ffmpy in /usr/local/lib/python3.12/dist-packages (from gradio>=5.25.2->nari-tts==0.1.0) (0.6.1)\n",
            "Requirement already satisfied: gradio-client==1.13.3 in /usr/local/lib/python3.12/dist-packages (from gradio>=5.25.2->nari-tts==0.1.0) (1.13.3)\n",
            "Requirement already satisfied: groovy~=0.1 in /usr/local/lib/python3.12/dist-packages (from gradio>=5.25.2->nari-tts==0.1.0) (0.1.2)\n",
            "Requirement already satisfied: httpx<1.0,>=0.24.1 in /usr/local/lib/python3.12/dist-packages (from gradio>=5.25.2->nari-tts==0.1.0) (0.28.1)\n",
            "Requirement already satisfied: jinja2<4.0 in /usr/local/lib/python3.12/dist-packages (from gradio>=5.25.2->nari-tts==0.1.0) (3.1.6)\n",
            "Requirement already satisfied: markupsafe<4.0,>=2.0 in /usr/local/lib/python3.12/dist-packages (from gradio>=5.25.2->nari-tts==0.1.0) (3.0.3)\n",
            "Requirement already satisfied: orjson~=3.0 in /usr/local/lib/python3.12/dist-packages (from gradio>=5.25.2->nari-tts==0.1.0) (3.11.3)\n",
            "Requirement already satisfied: packaging in /usr/local/lib/python3.12/dist-packages (from gradio>=5.25.2->nari-tts==0.1.0) (25.0)\n",
            "Requirement already satisfied: pandas<3.0,>=1.0 in /usr/local/lib/python3.12/dist-packages (from gradio>=5.25.2->nari-tts==0.1.0) (2.2.2)\n",
            "Requirement already satisfied: pillow<12.0,>=8.0 in /usr/local/lib/python3.12/dist-packages (from gradio>=5.25.2->nari-tts==0.1.0) (11.3.0)\n",
            "Requirement already satisfied: pydub in /usr/local/lib/python3.12/dist-packages (from gradio>=5.25.2->nari-tts==0.1.0) (0.25.1)\n",
            "Requirement already satisfied: python-multipart>=0.0.18 in /usr/local/lib/python3.12/dist-packages (from gradio>=5.25.2->nari-tts==0.1.0) (0.0.20)\n",
            "Requirement already satisfied: pyyaml<7.0,>=5.0 in /usr/local/lib/python3.12/dist-packages (from gradio>=5.25.2->nari-tts==0.1.0) (6.0.3)\n",
            "Requirement already satisfied: ruff>=0.9.3 in /usr/local/lib/python3.12/dist-packages (from gradio>=5.25.2->nari-tts==0.1.0) (0.13.2)\n",
            "Requirement already satisfied: safehttpx<0.2.0,>=0.1.6 in /usr/local/lib/python3.12/dist-packages (from gradio>=5.25.2->nari-tts==0.1.0) (0.1.6)\n",
            "Requirement already satisfied: semantic-version~=2.0 in /usr/local/lib/python3.12/dist-packages (from gradio>=5.25.2->nari-tts==0.1.0) (2.10.0)\n",
            "Requirement already satisfied: starlette<1.0,>=0.40.0 in /usr/local/lib/python3.12/dist-packages (from gradio>=5.25.2->nari-tts==0.1.0) (0.48.0)\n",
            "Requirement already satisfied: tomlkit<0.14.0,>=0.12.0 in /usr/local/lib/python3.12/dist-packages (from gradio>=5.25.2->nari-tts==0.1.0) (0.13.3)\n",
            "Requirement already satisfied: typer<1.0,>=0.12 in /usr/local/lib/python3.12/dist-packages (from gradio>=5.25.2->nari-tts==0.1.0) (0.19.2)\n",
            "Requirement already satisfied: typing-extensions~=4.0 in /usr/local/lib/python3.12/dist-packages (from gradio>=5.25.2->nari-tts==0.1.0) (4.15.0)\n",
            "Requirement already satisfied: uvicorn>=0.14.0 in /usr/local/lib/python3.12/dist-packages (from gradio>=5.25.2->nari-tts==0.1.0) (0.37.0)\n",
            "Requirement already satisfied: fsspec in /usr/local/lib/python3.12/dist-packages (from gradio-client==1.13.3->gradio>=5.25.2->nari-tts==0.1.0) (2025.3.0)\n",
            "Requirement already satisfied: websockets<16.0,>=13.0 in /usr/local/lib/python3.12/dist-packages (from gradio-client==1.13.3->gradio>=5.25.2->nari-tts==0.1.0) (15.0.1)\n",
            "Requirement already satisfied: filelock in /usr/local/lib/python3.12/dist-packages (from huggingface-hub>=0.30.2->nari-tts==0.1.0) (3.19.1)\n",
            "Requirement already satisfied: requests in /usr/local/lib/python3.12/dist-packages (from huggingface-hub>=0.30.2->nari-tts==0.1.0) (2.32.4)\n",
            "Requirement already satisfied: hf-xet<2.0.0,>=1.1.3 in /usr/local/lib/python3.12/dist-packages (from huggingface-hub>=0.30.2->nari-tts==0.1.0) (1.1.10)\n",
            "Requirement already satisfied: annotated-types>=0.6.0 in /usr/local/lib/python3.12/dist-packages (from pydantic>=2.11.3->nari-tts==0.1.0) (0.7.0)\n",
            "Requirement already satisfied: pydantic-core==2.33.2 in /usr/local/lib/python3.12/dist-packages (from pydantic>=2.11.3->nari-tts==0.1.0) (2.33.2)\n",
            "Requirement already satisfied: typing-inspection>=0.4.0 in /usr/local/lib/python3.12/dist-packages (from pydantic>=2.11.3->nari-tts==0.1.0) (0.4.2)\n",
            "Requirement already satisfied: cffi>=1.0 in /usr/local/lib/python3.12/dist-packages (from soundfile>=0.13.1->nari-tts==0.1.0) (2.0.0)\n",
            "Requirement already satisfied: setuptools in /usr/local/lib/python3.12/dist-packages (from torch>=2.6.0->nari-tts==0.1.0) (75.2.0)\n",
            "Requirement already satisfied: sympy>=1.13.3 in /usr/local/lib/python3.12/dist-packages (from torch>=2.6.0->nari-tts==0.1.0) (1.13.3)\n",
            "Requirement already satisfied: networkx in /usr/local/lib/python3.12/dist-packages (from torch>=2.6.0->nari-tts==0.1.0) (3.5)\n",
            "Requirement already satisfied: nvidia-cuda-nvrtc-cu12==12.8.93 in /usr/local/lib/python3.12/dist-packages (from torch>=2.6.0->nari-tts==0.1.0) (12.8.93)\n",
            "Requirement already satisfied: nvidia-cuda-runtime-cu12==12.8.90 in /usr/local/lib/python3.12/dist-packages (from torch>=2.6.0->nari-tts==0.1.0) (12.8.90)\n",
            "Requirement already satisfied: nvidia-cuda-cupti-cu12==12.8.90 in /usr/local/lib/python3.12/dist-packages (from torch>=2.6.0->nari-tts==0.1.0) (12.8.90)\n",
            "Requirement already satisfied: nvidia-cudnn-cu12==9.10.2.21 in /usr/local/lib/python3.12/dist-packages (from torch>=2.6.0->nari-tts==0.1.0) (9.10.2.21)\n",
            "Requirement already satisfied: nvidia-cublas-cu12==12.8.4.1 in /usr/local/lib/python3.12/dist-packages (from torch>=2.6.0->nari-tts==0.1.0) (12.8.4.1)\n",
            "Requirement already satisfied: nvidia-cufft-cu12==11.3.3.83 in /usr/local/lib/python3.12/dist-packages (from torch>=2.6.0->nari-tts==0.1.0) (11.3.3.83)\n",
            "Requirement already satisfied: nvidia-curand-cu12==10.3.9.90 in /usr/local/lib/python3.12/dist-packages (from torch>=2.6.0->nari-tts==0.1.0) (10.3.9.90)\n",
            "Requirement already satisfied: nvidia-cusolver-cu12==11.7.3.90 in /usr/local/lib/python3.12/dist-packages (from torch>=2.6.0->nari-tts==0.1.0) (11.7.3.90)\n",
            "Requirement already satisfied: nvidia-cusparse-cu12==12.5.8.93 in /usr/local/lib/python3.12/dist-packages (from torch>=2.6.0->nari-tts==0.1.0) (12.5.8.93)\n",
            "Requirement already satisfied: nvidia-cusparselt-cu12==0.7.1 in /usr/local/lib/python3.12/dist-packages (from torch>=2.6.0->nari-tts==0.1.0) (0.7.1)\n",
            "Requirement already satisfied: nvidia-nccl-cu12==2.27.3 in /usr/local/lib/python3.12/dist-packages (from torch>=2.6.0->nari-tts==0.1.0) (2.27.3)\n",
            "Requirement already satisfied: nvidia-nvtx-cu12==12.8.90 in /usr/local/lib/python3.12/dist-packages (from torch>=2.6.0->nari-tts==0.1.0) (12.8.90)\n",
            "Requirement already satisfied: nvidia-nvjitlink-cu12==12.8.93 in /usr/local/lib/python3.12/dist-packages (from torch>=2.6.0->nari-tts==0.1.0) (12.8.93)\n",
            "Requirement already satisfied: nvidia-cufile-cu12==1.13.1.3 in /usr/local/lib/python3.12/dist-packages (from torch>=2.6.0->nari-tts==0.1.0) (1.13.1.3)\n",
            "Requirement already satisfied: idna>=2.8 in /usr/local/lib/python3.12/dist-packages (from anyio<5.0,>=3.0->gradio>=5.25.2->nari-tts==0.1.0) (3.10)\n",
            "Requirement already satisfied: sniffio>=1.1 in /usr/local/lib/python3.12/dist-packages (from anyio<5.0,>=3.0->gradio>=5.25.2->nari-tts==0.1.0) (1.3.1)\n",
            "Requirement already satisfied: docstring-parser in /usr/local/lib/python3.12/dist-packages (from argbind>=0.3.7->descript-audio-codec>=1.0.0->nari-tts==0.1.0) (0.17.0)\n",
            "Requirement already satisfied: pycparser in /usr/local/lib/python3.12/dist-packages (from cffi>=1.0->soundfile>=0.13.1->nari-tts==0.1.0) (2.23)\n",
            "Requirement already satisfied: pyloudnorm in /usr/local/lib/python3.12/dist-packages (from descript-audiotools>=0.7.2->descript-audio-codec>=1.0.0->nari-tts==0.1.0) (0.1.1)\n",
            "Requirement already satisfied: importlib-resources in /usr/local/lib/python3.12/dist-packages (from descript-audiotools>=0.7.2->descript-audio-codec>=1.0.0->nari-tts==0.1.0) (6.5.2)\n",
            "Requirement already satisfied: scipy in /usr/local/lib/python3.12/dist-packages (from descript-audiotools>=0.7.2->descript-audio-codec>=1.0.0->nari-tts==0.1.0) (1.16.2)\n",
            "Requirement already satisfied: julius in /usr/local/lib/python3.12/dist-packages (from descript-audiotools>=0.7.2->descript-audio-codec>=1.0.0->nari-tts==0.1.0) (0.2.7)\n",
            "Requirement already satisfied: ipython in /usr/local/lib/python3.12/dist-packages (from descript-audiotools>=0.7.2->descript-audio-codec>=1.0.0->nari-tts==0.1.0) (7.34.0)\n",
            "Requirement already satisfied: rich in /usr/local/lib/python3.12/dist-packages (from descript-audiotools>=0.7.2->descript-audio-codec>=1.0.0->nari-tts==0.1.0) (13.9.4)\n",
            "Requirement already satisfied: matplotlib in /usr/local/lib/python3.12/dist-packages (from descript-audiotools>=0.7.2->descript-audio-codec>=1.0.0->nari-tts==0.1.0) (3.10.0)\n",
            "Requirement already satisfied: librosa in /usr/local/lib/python3.12/dist-packages (from descript-audiotools>=0.7.2->descript-audio-codec>=1.0.0->nari-tts==0.1.0) (0.11.0)\n",
            "Requirement already satisfied: pystoi in /usr/local/lib/python3.12/dist-packages (from descript-audiotools>=0.7.2->descript-audio-codec>=1.0.0->nari-tts==0.1.0) (0.4.1)\n",
            "Requirement already satisfied: torch-stoi in /usr/local/lib/python3.12/dist-packages (from descript-audiotools>=0.7.2->descript-audio-codec>=1.0.0->nari-tts==0.1.0) (0.2.3)\n",
            "Requirement already satisfied: flatten-dict in /usr/local/lib/python3.12/dist-packages (from descript-audiotools>=0.7.2->descript-audio-codec>=1.0.0->nari-tts==0.1.0) (0.4.2)\n",
            "Requirement already satisfied: markdown2 in /usr/local/lib/python3.12/dist-packages (from descript-audiotools>=0.7.2->descript-audio-codec>=1.0.0->nari-tts==0.1.0) (2.5.4)\n",
            "Requirement already satisfied: randomname in /usr/local/lib/python3.12/dist-packages (from descript-audiotools>=0.7.2->descript-audio-codec>=1.0.0->nari-tts==0.1.0) (0.2.1)\n",
            "Requirement already satisfied: protobuf<3.20,>=3.9.2 in /usr/local/lib/python3.12/dist-packages (from descript-audiotools>=0.7.2->descript-audio-codec>=1.0.0->nari-tts==0.1.0) (3.19.6)\n",
            "Requirement already satisfied: tensorboard in /usr/local/lib/python3.12/dist-packages (from descript-audiotools>=0.7.2->descript-audio-codec>=1.0.0->nari-tts==0.1.0) (2.19.0)\n",
            "Requirement already satisfied: certifi in /usr/local/lib/python3.12/dist-packages (from httpx<1.0,>=0.24.1->gradio>=5.25.2->nari-tts==0.1.0) (2025.8.3)\n",
            "Requirement already satisfied: httpcore==1.* in /usr/local/lib/python3.12/dist-packages (from httpx<1.0,>=0.24.1->gradio>=5.25.2->nari-tts==0.1.0) (1.0.9)\n",
            "Requirement already satisfied: h11>=0.16 in /usr/local/lib/python3.12/dist-packages (from httpcore==1.*->httpx<1.0,>=0.24.1->gradio>=5.25.2->nari-tts==0.1.0) (0.16.0)\n",
            "Requirement already satisfied: python-dateutil>=2.8.2 in /usr/local/lib/python3.12/dist-packages (from pandas<3.0,>=1.0->gradio>=5.25.2->nari-tts==0.1.0) (2.9.0.post0)\n",
            "Requirement already satisfied: pytz>=2020.1 in /usr/local/lib/python3.12/dist-packages (from pandas<3.0,>=1.0->gradio>=5.25.2->nari-tts==0.1.0) (2025.2)\n",
            "Requirement already satisfied: tzdata>=2022.7 in /usr/local/lib/python3.12/dist-packages (from pandas<3.0,>=1.0->gradio>=5.25.2->nari-tts==0.1.0) (2025.2)\n",
            "Requirement already satisfied: mpmath<1.4,>=1.1.0 in /usr/local/lib/python3.12/dist-packages (from sympy>=1.13.3->torch>=2.6.0->nari-tts==0.1.0) (1.3.0)\n",
            "Requirement already satisfied: click>=8.0.0 in /usr/local/lib/python3.12/dist-packages (from typer<1.0,>=0.12->gradio>=5.25.2->nari-tts==0.1.0) (8.3.0)\n",
            "Requirement already satisfied: shellingham>=1.3.0 in /usr/local/lib/python3.12/dist-packages (from typer<1.0,>=0.12->gradio>=5.25.2->nari-tts==0.1.0) (1.5.4)\n",
            "Requirement already satisfied: charset_normalizer<4,>=2 in /usr/local/lib/python3.12/dist-packages (from requests->huggingface-hub>=0.30.2->nari-tts==0.1.0) (3.4.3)\n",
            "Requirement already satisfied: urllib3<3,>=1.21.1 in /usr/local/lib/python3.12/dist-packages (from requests->huggingface-hub>=0.30.2->nari-tts==0.1.0) (2.5.0)\n",
            "Requirement already satisfied: six>=1.5 in /usr/local/lib/python3.12/dist-packages (from python-dateutil>=2.8.2->pandas<3.0,>=1.0->gradio>=5.25.2->nari-tts==0.1.0) (1.17.0)\n",
            "Requirement already satisfied: markdown-it-py>=2.2.0 in /usr/local/lib/python3.12/dist-packages (from rich->descript-audiotools>=0.7.2->descript-audio-codec>=1.0.0->nari-tts==0.1.0) (4.0.0)\n",
            "Requirement already satisfied: pygments<3.0.0,>=2.13.0 in /usr/local/lib/python3.12/dist-packages (from rich->descript-audiotools>=0.7.2->descript-audio-codec>=1.0.0->nari-tts==0.1.0) (2.19.2)\n",
            "Requirement already satisfied: jedi>=0.16 in /usr/local/lib/python3.12/dist-packages (from ipython->descript-audiotools>=0.7.2->descript-audio-codec>=1.0.0->nari-tts==0.1.0) (0.19.2)\n",
            "Requirement already satisfied: decorator in /usr/local/lib/python3.12/dist-packages (from ipython->descript-audiotools>=0.7.2->descript-audio-codec>=1.0.0->nari-tts==0.1.0) (4.4.2)\n",
            "Requirement already satisfied: pickleshare in /usr/local/lib/python3.12/dist-packages (from ipython->descript-audiotools>=0.7.2->descript-audio-codec>=1.0.0->nari-tts==0.1.0) (0.7.5)\n",
            "Requirement already satisfied: traitlets>=4.2 in /usr/local/lib/python3.12/dist-packages (from ipython->descript-audiotools>=0.7.2->descript-audio-codec>=1.0.0->nari-tts==0.1.0) (5.7.1)\n",
            "Requirement already satisfied: prompt-toolkit!=3.0.0,!=3.0.1,<3.1.0,>=2.0.0 in /usr/local/lib/python3.12/dist-packages (from ipython->descript-audiotools>=0.7.2->descript-audio-codec>=1.0.0->nari-tts==0.1.0) (3.0.52)\n",
            "Requirement already satisfied: backcall in /usr/local/lib/python3.12/dist-packages (from ipython->descript-audiotools>=0.7.2->descript-audio-codec>=1.0.0->nari-tts==0.1.0) (0.2.0)\n",
            "Requirement already satisfied: matplotlib-inline in /usr/local/lib/python3.12/dist-packages (from ipython->descript-audiotools>=0.7.2->descript-audio-codec>=1.0.0->nari-tts==0.1.0) (0.1.7)\n",
            "Requirement already satisfied: pexpect>4.3 in /usr/local/lib/python3.12/dist-packages (from ipython->descript-audiotools>=0.7.2->descript-audio-codec>=1.0.0->nari-tts==0.1.0) (4.9.0)\n",
            "Requirement already satisfied: audioread>=2.1.9 in /usr/local/lib/python3.12/dist-packages (from librosa->descript-audiotools>=0.7.2->descript-audio-codec>=1.0.0->nari-tts==0.1.0) (3.0.1)\n",
            "Requirement already satisfied: numba>=0.51.0 in /usr/local/lib/python3.12/dist-packages (from librosa->descript-audiotools>=0.7.2->descript-audio-codec>=1.0.0->nari-tts==0.1.0) (0.62.1)\n",
            "Requirement already satisfied: scikit-learn>=1.1.0 in /usr/local/lib/python3.12/dist-packages (from librosa->descript-audiotools>=0.7.2->descript-audio-codec>=1.0.0->nari-tts==0.1.0) (1.6.1)\n",
            "Requirement already satisfied: joblib>=1.0 in /usr/local/lib/python3.12/dist-packages (from librosa->descript-audiotools>=0.7.2->descript-audio-codec>=1.0.0->nari-tts==0.1.0) (1.5.2)\n",
            "Requirement already satisfied: pooch>=1.1 in /usr/local/lib/python3.12/dist-packages (from librosa->descript-audiotools>=0.7.2->descript-audio-codec>=1.0.0->nari-tts==0.1.0) (1.8.2)\n",
            "Requirement already satisfied: soxr>=0.3.2 in /usr/local/lib/python3.12/dist-packages (from librosa->descript-audiotools>=0.7.2->descript-audio-codec>=1.0.0->nari-tts==0.1.0) (1.0.0)\n",
            "Requirement already satisfied: lazy_loader>=0.1 in /usr/local/lib/python3.12/dist-packages (from librosa->descript-audiotools>=0.7.2->descript-audio-codec>=1.0.0->nari-tts==0.1.0) (0.4)\n",
            "Requirement already satisfied: msgpack>=1.0 in /usr/local/lib/python3.12/dist-packages (from librosa->descript-audiotools>=0.7.2->descript-audio-codec>=1.0.0->nari-tts==0.1.0) (1.1.1)\n",
            "Requirement already satisfied: contourpy>=1.0.1 in /usr/local/lib/python3.12/dist-packages (from matplotlib->descript-audiotools>=0.7.2->descript-audio-codec>=1.0.0->nari-tts==0.1.0) (1.3.3)\n",
            "Requirement already satisfied: cycler>=0.10 in /usr/local/lib/python3.12/dist-packages (from matplotlib->descript-audiotools>=0.7.2->descript-audio-codec>=1.0.0->nari-tts==0.1.0) (0.12.1)\n",
            "Requirement already satisfied: fonttools>=4.22.0 in /usr/local/lib/python3.12/dist-packages (from matplotlib->descript-audiotools>=0.7.2->descript-audio-codec>=1.0.0->nari-tts==0.1.0) (4.60.1)\n",
            "Requirement already satisfied: kiwisolver>=1.3.1 in /usr/local/lib/python3.12/dist-packages (from matplotlib->descript-audiotools>=0.7.2->descript-audio-codec>=1.0.0->nari-tts==0.1.0) (1.4.9)\n",
            "Requirement already satisfied: pyparsing>=2.3.1 in /usr/local/lib/python3.12/dist-packages (from matplotlib->descript-audiotools>=0.7.2->descript-audio-codec>=1.0.0->nari-tts==0.1.0) (3.2.5)\n",
            "Requirement already satisfied: future>=0.16.0 in /usr/local/lib/python3.12/dist-packages (from pyloudnorm->descript-audiotools>=0.7.2->descript-audio-codec>=1.0.0->nari-tts==0.1.0) (1.0.0)\n",
            "Requirement already satisfied: fire in /usr/local/lib/python3.12/dist-packages (from randomname->descript-audiotools>=0.7.2->descript-audio-codec>=1.0.0->nari-tts==0.1.0) (0.7.1)\n",
            "Requirement already satisfied: absl-py>=0.4 in /usr/local/lib/python3.12/dist-packages (from tensorboard->descript-audiotools>=0.7.2->descript-audio-codec>=1.0.0->nari-tts==0.1.0) (1.4.0)\n",
            "Requirement already satisfied: grpcio>=1.48.2 in /usr/local/lib/python3.12/dist-packages (from tensorboard->descript-audiotools>=0.7.2->descript-audio-codec>=1.0.0->nari-tts==0.1.0) (1.75.1)\n",
            "Requirement already satisfied: markdown>=2.6.8 in /usr/local/lib/python3.12/dist-packages (from tensorboard->descript-audiotools>=0.7.2->descript-audio-codec>=1.0.0->nari-tts==0.1.0) (3.9)\n",
            "Requirement already satisfied: tensorboard-data-server<0.8.0,>=0.7.0 in /usr/local/lib/python3.12/dist-packages (from tensorboard->descript-audiotools>=0.7.2->descript-audio-codec>=1.0.0->nari-tts==0.1.0) (0.7.2)\n",
            "Requirement already satisfied: werkzeug>=1.0.1 in /usr/local/lib/python3.12/dist-packages (from tensorboard->descript-audiotools>=0.7.2->descript-audio-codec>=1.0.0->nari-tts==0.1.0) (3.1.3)\n",
            "Requirement already satisfied: parso<0.9.0,>=0.8.4 in /usr/local/lib/python3.12/dist-packages (from jedi>=0.16->ipython->descript-audiotools>=0.7.2->descript-audio-codec>=1.0.0->nari-tts==0.1.0) (0.8.5)\n",
            "Requirement already satisfied: mdurl~=0.1 in /usr/local/lib/python3.12/dist-packages (from markdown-it-py>=2.2.0->rich->descript-audiotools>=0.7.2->descript-audio-codec>=1.0.0->nari-tts==0.1.0) (0.1.2)\n",
            "Requirement already satisfied: llvmlite<0.46,>=0.45.0dev0 in /usr/local/lib/python3.12/dist-packages (from numba>=0.51.0->librosa->descript-audiotools>=0.7.2->descript-audio-codec>=1.0.0->nari-tts==0.1.0) (0.45.1)\n",
            "Requirement already satisfied: ptyprocess>=0.5 in /usr/local/lib/python3.12/dist-packages (from pexpect>4.3->ipython->descript-audiotools>=0.7.2->descript-audio-codec>=1.0.0->nari-tts==0.1.0) (0.7.0)\n",
            "Requirement already satisfied: platformdirs>=2.5.0 in /usr/local/lib/python3.12/dist-packages (from pooch>=1.1->librosa->descript-audiotools>=0.7.2->descript-audio-codec>=1.0.0->nari-tts==0.1.0) (4.4.0)\n",
            "Requirement already satisfied: wcwidth in /usr/local/lib/python3.12/dist-packages (from prompt-toolkit!=3.0.0,!=3.0.1,<3.1.0,>=2.0.0->ipython->descript-audiotools>=0.7.2->descript-audio-codec>=1.0.0->nari-tts==0.1.0) (0.2.14)\n",
            "Requirement already satisfied: threadpoolctl>=3.1.0 in /usr/local/lib/python3.12/dist-packages (from scikit-learn>=1.1.0->librosa->descript-audiotools>=0.7.2->descript-audio-codec>=1.0.0->nari-tts==0.1.0) (3.6.0)\n",
            "Requirement already satisfied: termcolor in /usr/local/lib/python3.12/dist-packages (from fire->randomname->descript-audiotools>=0.7.2->descript-audio-codec>=1.0.0->nari-tts==0.1.0) (3.1.0)\n",
            "Using cached torch-2.8.0-cp312-cp312-manylinux_2_28_x86_64.whl (887.9 MB)\n",
            "Using cached torchaudio-2.8.0-cp312-cp312-manylinux_2_28_x86_64.whl (4.0 MB)\n",
            "Building wheels for collected packages: nari-tts\n",
            "  Building editable for nari-tts (pyproject.toml) ... \u001b[?25l\u001b[?25hdone\n",
            "  Created wheel for nari-tts: filename=nari_tts-0.1.0-py3-none-any.whl size=10512 sha256=0b038cfa26764f3908b05ea08ef71700983260f4437760cf36c6cccf71f117c5\n",
            "  Stored in directory: /tmp/pip-ephem-wheel-cache-cwcsuzz2/wheels/97/56/1e/dd1825c2d852d9f512eee556593f21f47c8ce7f61b25f37e9a\n",
            "Successfully built nari-tts\n",
            "Installing collected packages: torch, torchaudio, nari-tts\n",
            "  Attempting uninstall: nari-tts\n",
            "    Found existing installation: nari-tts 0.1.0\n",
            "    Uninstalling nari-tts-0.1.0:\n",
            "      Successfully uninstalled nari-tts-0.1.0\n",
            "\u001b[31mERROR: pip's dependency resolver does not currently take into account all the packages that are installed. This behaviour is the source of the following dependency conflicts.\n",
            "fastai 2.8.4 requires torchvision>=0.11, which is not installed.\n",
            "timm 1.0.20 requires torchvision, which is not installed.\u001b[0m\u001b[31m\n",
            "\u001b[0mSuccessfully installed nari-tts-0.1.0 torch-2.8.0 torchaudio-2.8.0\n"
          ]
        }
      ],
      "source": [
        "# Install the fork in editable mode\n",
        "!pip install -e ."
      ]
    },
    {
      "cell_type": "code",
      "execution_count": null,
      "id": "c267da3c",
      "metadata": {
        "id": "c267da3c",
        "outputId": "8ca4562e-1930-4e7d-d2ea-b7acfe75cf93",
        "colab": {
          "base_uri": "https://localhost:8080/"
        }
      },
      "outputs": [
        {
          "output_type": "stream",
          "name": "stdout",
          "text": [
            "2025-10-06 07:00:27.323344: E external/local_xla/xla/stream_executor/cuda/cuda_fft.cc:467] Unable to register cuFFT factory: Attempting to register factory for plugin cuFFT when one has already been registered\n",
            "WARNING: All log messages before absl::InitializeLog() is called are written to STDERR\n",
            "E0000 00:00:1759734027.579902    2512 cuda_dnn.cc:8579] Unable to register cuDNN factory: Attempting to register factory for plugin cuDNN when one has already been registered\n",
            "E0000 00:00:1759734027.649412    2512 cuda_blas.cc:1407] Unable to register cuBLAS factory: Attempting to register factory for plugin cuBLAS when one has already been registered\n",
            "W0000 00:00:1759734028.161169    2512 computation_placer.cc:177] computation placer already registered. Please check linkage and avoid linking the same target more than once.\n",
            "W0000 00:00:1759734028.161227    2512 computation_placer.cc:177] computation placer already registered. Please check linkage and avoid linking the same target more than once.\n",
            "W0000 00:00:1759734028.161235    2512 computation_placer.cc:177] computation placer already registered. Please check linkage and avoid linking the same target more than once.\n",
            "W0000 00:00:1759734028.161239    2512 computation_placer.cc:177] computation placer already registered. Please check linkage and avoid linking the same target more than once.\n",
            "2025-10-06 07:00:28.212307: I tensorflow/core/platform/cpu_feature_guard.cc:210] This TensorFlow binary is optimized to use available CPU instructions in performance-critical operations.\n",
            "To enable the following instructions: AVX2 AVX512F FMA, in other operations, rebuild TensorFlow with the appropriate compiler flags.\n",
            "Using device: cuda\n",
            "Loading Nari model...\n",
            "config.json: 100% 941/941 [00:00<00:00, 6.50MB/s]\n",
            "dia-v0_1.pth: 100% 6.44G/6.44G [02:02<00:00, 52.7MB/s]\n",
            "/usr/local/lib/python3.12/dist-packages/torch/nn/utils/weight_norm.py:144: FutureWarning: `torch.nn.utils.weight_norm` is deprecated in favor of `torch.nn.utils.parametrizations.weight_norm`.\n",
            "  WeightNorm.apply(module, name, dim)\n",
            "Launching Gradio interface...\n",
            "* Running on local URL:  http://127.0.0.1:7860\n",
            "* Running on public URL: https://e5206b23a61a0deaf6.gradio.live\n",
            "\n",
            "This share link expires in 1 week. For free permanent hosting and GPU upgrades, run `gradio deploy` from the terminal in the working directory to deploy to Hugging Face Spaces (https://huggingface.co/spaces)\n"
          ]
        }
      ],
      "source": [
        "# Launch the Gradio interface\n",
        "!python app.py --share"
      ]
    },
    {
      "cell_type": "markdown",
      "id": "03f08932",
      "metadata": {
        "id": "03f08932"
      },
      "source": [
        "---\n",
        "\n",
        "## 🙋 Maintainer\n",
        "\n",
        "Created by **Anil Clifford**  \n",
        "→ [@arcaneum](https://github.com/arcaneum) | [EdenDigitalUK](https://github.com/EdenDigitalUK)  \n",
        "→ [edendigital.io](https://www.edendigital.io)  \n",
        "→ [LinkedIn](https://www.linkedin.com/in/anilcliff/) | [Twitter/X](https://x.com/anil_clifford)\n",
        "\n",
        "---\n",
        "\n",
        "## 📜 License\n",
        "\n",
        "This notebook is part of the [nari-dia-colab](https://github.com/arcaneum/nari-dia-colab) fork.  \n",
        "Apache 2.0 — based on the original open-source Dia model by Nari Labs.\n"
      ]
    }
  ],
  "metadata": {
    "colab": {
      "provenance": [],
      "gpuType": "T4",
      "include_colab_link": true
    },
    "language_info": {
      "name": "python"
    },
    "kernelspec": {
      "name": "python3",
      "display_name": "Python 3"
    },
    "accelerator": "GPU"
  },
  "nbformat": 4,
  "nbformat_minor": 5
}